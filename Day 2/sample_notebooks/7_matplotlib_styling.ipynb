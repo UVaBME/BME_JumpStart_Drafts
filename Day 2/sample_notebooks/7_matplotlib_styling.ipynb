{
 "cells": [
  {
   "cell_type": "code",
   "execution_count": null,
   "metadata": {},
   "outputs": [],
   "source": [
    "import matplotlib.pyplot as plt\n",
    "import pandas as pd\n",
    "import seaborn as sns\n",
    "\n",
    "%matplotlib inline"
   ]
  },
  {
   "cell_type": "code",
   "execution_count": null,
   "metadata": {},
   "outputs": [],
   "source": [
    "cars = pd.read_csv('../data/auto_mpg_cleaned.csv')"
   ]
  },
  {
   "cell_type": "code",
   "execution_count": null,
   "metadata": {},
   "outputs": [],
   "source": [
    "cars.head()"
   ]
  },
  {
   "cell_type": "markdown",
   "metadata": {},
   "source": [
    "## Bar Plots\n",
    "\n",
    "Let's say you want to make a visualization to show the number of cars by origin in your dataset. First, you get use the `.value_counts()` method to generate these counts."
   ]
  },
  {
   "cell_type": "code",
   "execution_count": null,
   "metadata": {},
   "outputs": [],
   "source": [
    "cars['origin'].value_counts()"
   ]
  },
  {
   "cell_type": "markdown",
   "metadata": {},
   "source": [
    "Then you can use the `.plot()` method specifying `kind = 'bar'` to get a basic bar plot:"
   ]
  },
  {
   "cell_type": "code",
   "execution_count": null,
   "metadata": {},
   "outputs": [],
   "source": [
    "cars['origin'].value_counts().plot(kind = 'bar')"
   ]
  },
  {
   "cell_type": "markdown",
   "metadata": {},
   "source": [
    "You can suppress the output that displays above the plot by adding a semicolon to the end of the last line."
   ]
  },
  {
   "cell_type": "code",
   "execution_count": null,
   "metadata": {},
   "outputs": [],
   "source": [
    "cars['origin'].value_counts().plot(kind = 'bar');"
   ]
  },
  {
   "cell_type": "markdown",
   "metadata": {},
   "source": [
    "The default figure size can be on the small size, so if you want to make it larger, the easiest way ususally is to call `plt.figure()` prior to creating your plot and then pass a tuple to `figsize`. This tuple specifies (width, height)."
   ]
  },
  {
   "cell_type": "code",
   "execution_count": null,
   "metadata": {},
   "outputs": [],
   "source": [
    "plt.figure(figsize = (8,5))\n",
    "cars['origin'].value_counts().plot(kind = 'bar');"
   ]
  },
  {
   "cell_type": "markdown",
   "metadata": {},
   "source": [
    "If you are not a fan of the default matplotlib colors, they are highly customizable. You can use the `color` argument and pass in a named color or a hex code.\n",
    "\n",
    "A list of named colors is available at https://matplotlib.org/3.1.0/gallery/color/named_colors.html."
   ]
  },
  {
   "cell_type": "code",
   "execution_count": null,
   "metadata": {},
   "outputs": [],
   "source": [
    "plt.figure(figsize = (8,5))\n",
    "cars['origin'].value_counts().plot(kind = 'bar', color = 'slategray');"
   ]
  },
  {
   "cell_type": "markdown",
   "metadata": {},
   "source": [
    "Having the labels rotated can be useful when there are a large number of categories, but in this case, with only 3 categories, you can use unrotated labels. \n",
    "\n",
    "You can modify the look of the x tick labels by using `plt.xticks()`. The `rotation` argument specifies the angle of rotation for the labels. If you have a large number of categories, you might want to used angled labels."
   ]
  },
  {
   "cell_type": "code",
   "execution_count": null,
   "metadata": {},
   "outputs": [],
   "source": [
    "plt.figure(figsize = (8,5))\n",
    "cars['origin'].value_counts().plot(kind = 'bar', color = 'slategray')\n",
    "plt.xticks(rotation = 45);"
   ]
  },
  {
   "cell_type": "markdown",
   "metadata": {},
   "source": [
    "In this case, since there are only three categories, there is enough space to have no rotation."
   ]
  },
  {
   "cell_type": "code",
   "execution_count": null,
   "metadata": {},
   "outputs": [],
   "source": [
    "plt.figure(figsize = (8,5))\n",
    "cars['origin'].value_counts().plot(kind = 'bar', color = 'slategray')\n",
    "plt.xticks(rotation = 0);"
   ]
  },
  {
   "cell_type": "markdown",
   "metadata": {},
   "source": [
    "You can also change the fontsize. It is very important when making visualization for presentations that you have large enough labels so that they can easily be read by your audience."
   ]
  },
  {
   "cell_type": "code",
   "execution_count": null,
   "metadata": {},
   "outputs": [],
   "source": [
    "plt.figure(figsize = (8,5))\n",
    "cars['origin'].value_counts().plot(kind = 'bar', color = 'slategray')\n",
    "plt.xticks(rotation = 0, fontsize = 14)\n",
    "plt.yticks(fontsize = 14);"
   ]
  },
  {
   "cell_type": "markdown",
   "metadata": {},
   "source": [
    "It is good practice to always label your axes and title your plot. Notice that you can bold text by specifying `fontweight = 'bold'`."
   ]
  },
  {
   "cell_type": "code",
   "execution_count": null,
   "metadata": {},
   "outputs": [],
   "source": [
    "plt.figure(figsize = (8,5))\n",
    "cars['origin'].value_counts().plot(kind = 'bar', color = 'slategray')\n",
    "plt.xticks(rotation = 0, fontsize = 14)\n",
    "plt.yticks(fontsize = 14)\n",
    "plt.ylabel('Count', fontsize = 14)\n",
    "plt.title('Count of Cars by Origin', fontsize = 16, fontweight = 'bold');"
   ]
  },
  {
   "cell_type": "markdown",
   "metadata": {},
   "source": [
    "Finally, sometimes the values in your dataframe are not the values that you want to show up on your plot. For example, the raw values might have underscores which you want to remove on the labels. To change the labels, for example on the x-axis, you can use `labels` argument to the xticks method. Note also that for a bar plot, you will need to specify the `ticks` argument which indicates where to put the labels. By default, the ticks appear at integer values, starting from 0."
   ]
  },
  {
   "cell_type": "code",
   "execution_count": null,
   "metadata": {},
   "outputs": [],
   "source": [
    "plt.figure(figsize = (8,5))\n",
    "cars['origin'].value_counts().plot(kind = 'bar', color = 'slategray')\n",
    "plt.xticks(rotation = 0, fontsize = 14, labels = ['US', 'Japan', 'Europe'], ticks = [0, 1, 2])\n",
    "plt.yticks(fontsize = 14)\n",
    "plt.ylabel('Count', fontsize = 14)\n",
    "plt.title('Count of Cars by Origin', fontsize = 16, fontweight = 'bold');"
   ]
  },
  {
   "cell_type": "markdown",
   "metadata": {},
   "source": [
    "## Scatterplots\n",
    "\n",
    "Now, let's look at a scatterplot. Start with a basic one."
   ]
  },
  {
   "cell_type": "code",
   "execution_count": null,
   "metadata": {},
   "outputs": [],
   "source": [
    "cars.plot(kind = 'scatter', x = 'horsepower', y = 'mpg');"
   ]
  },
  {
   "cell_type": "markdown",
   "metadata": {},
   "source": [
    "What if you want to add some additional information. For example, what if you want to see the origin of each point. The easiest way to do this is to use seaborn."
   ]
  },
  {
   "cell_type": "code",
   "execution_count": null,
   "metadata": {},
   "outputs": [],
   "source": [
    "sns.scatterplot(data = cars, x = 'horsepower', y = 'mpg', hue = 'origin');"
   ]
  },
  {
   "cell_type": "markdown",
   "metadata": {},
   "source": [
    "You can change the default colors."
   ]
  },
  {
   "cell_type": "code",
   "execution_count": null,
   "metadata": {},
   "outputs": [],
   "source": [
    "sns.scatterplot(data = cars, x = 'horsepower', y = 'mpg', \n",
    "                hue = 'origin', palette = ['red', 'purple', 'skyblue']);"
   ]
  },
  {
   "cell_type": "markdown",
   "metadata": {},
   "source": [
    "Sometimes it makes the plot more readable to add transparency and edges on the points."
   ]
  },
  {
   "cell_type": "code",
   "execution_count": null,
   "metadata": {},
   "outputs": [],
   "source": [
    "sns.scatterplot(data = cars, x = 'horsepower', y = 'mpg', \n",
    "                hue = 'origin', palette = ['red', 'purple', 'skyblue'],\n",
    "                alpha = 0.7, edgecolor = 'black');"
   ]
  },
  {
   "cell_type": "markdown",
   "metadata": {},
   "source": [
    "You can increase the plot size, add a title, and increase the label fontsizes. \n",
    "\n",
    "Note that if you are using the same fontsize in multiple locations, it makes sense to set it as a variable before making your plot so that it is easier to adjust the fontsize across all elements at once if needed."
   ]
  },
  {
   "cell_type": "code",
   "execution_count": null,
   "metadata": {},
   "outputs": [],
   "source": [
    "fontsize = 16\n",
    "\n",
    "plt.figure(figsize = (12,7))\n",
    "sns.scatterplot(data = cars, x = 'horsepower', y = 'mpg', \n",
    "                hue = 'origin', palette = ['red', 'purple', 'skyblue'],\n",
    "                alpha = 0.7, edgecolor = 'black')\n",
    "plt.xticks(fontsize = fontsize)\n",
    "plt.xlabel('horsepower', fontsize = fontsize)\n",
    "plt.yticks(fontsize = fontsize)\n",
    "plt.ylabel('mpg', fontsize = fontsize)\n",
    "plt.title('MPG vs. Horsepower', fontsize = fontsize, fontweight = 'bold');"
   ]
  },
  {
   "cell_type": "markdown",
   "metadata": {},
   "source": [
    "You can make the points larger using the `s` argument."
   ]
  },
  {
   "cell_type": "code",
   "execution_count": null,
   "metadata": {},
   "outputs": [],
   "source": [
    "fontsize = 16\n",
    "\n",
    "plt.figure(figsize = (12,7))\n",
    "sns.scatterplot(data = cars, x = 'horsepower', y = 'mpg', s = 50,\n",
    "                hue = 'origin', palette = ['red', 'purple', 'skyblue'],\n",
    "                alpha = 0.7, edgecolor = 'black')\n",
    "plt.xticks(fontsize = fontsize)\n",
    "plt.xlabel('horsepower', fontsize = fontsize)\n",
    "plt.yticks(fontsize = fontsize)\n",
    "plt.ylabel('mpg', fontsize = fontsize)\n",
    "plt.title('MPG vs. Horsepower', fontsize = fontsize, fontweight = 'bold');"
   ]
  },
  {
   "cell_type": "markdown",
   "metadata": {},
   "source": [
    "You can also modify the legend. For example, you can adjust the fontsize by specifying the `fontsize` argument."
   ]
  },
  {
   "cell_type": "code",
   "execution_count": null,
   "metadata": {},
   "outputs": [],
   "source": [
    "fontsize = 16\n",
    "\n",
    "plt.figure(figsize = (12,7))\n",
    "sns.scatterplot(data = cars, x = 'horsepower', y = 'mpg', s = 50,\n",
    "                hue = 'origin', palette = ['red', 'purple', 'skyblue'],\n",
    "                alpha = 0.7, edgecolor = 'black')\n",
    "plt.xticks(fontsize = fontsize)\n",
    "plt.xlabel('horsepower', fontsize = fontsize)\n",
    "plt.yticks(fontsize = fontsize)\n",
    "plt.ylabel('mpg', fontsize = fontsize)\n",
    "plt.title('MPG vs. Horsepower', fontsize = fontsize, fontweight = 'bold')\n",
    "plt.legend(fontsize = fontsize - 2);"
   ]
  },
  {
   "cell_type": "markdown",
   "metadata": {},
   "source": [
    "Finally, it can sometimes make sense to hightlight unusual or extreme observations. In this case, there is a car that does is removed from the general trend, having higher mpg than other cars with similar horsepower values."
   ]
  },
  {
   "cell_type": "code",
   "execution_count": null,
   "metadata": {},
   "outputs": [],
   "source": [
    "cars[(cars.horsepower > 125) & (cars.mpg > 30)]"
   ]
  },
  {
   "cell_type": "code",
   "execution_count": null,
   "metadata": {},
   "outputs": [],
   "source": [
    "fontsize = 16\n",
    "\n",
    "plt.figure(figsize = (12,7))\n",
    "sns.scatterplot(data = cars, x = 'horsepower', y = 'mpg', s = 50,\n",
    "                hue = 'origin', palette = ['red', 'purple', 'skyblue'],\n",
    "                alpha = 0.7, edgecolor = 'black')\n",
    "plt.xticks(fontsize = fontsize)\n",
    "plt.xlabel('horsepower', fontsize = fontsize)\n",
    "plt.yticks(fontsize = fontsize)\n",
    "plt.ylabel('mpg', fontsize = fontsize)\n",
    "plt.title('MPG vs. Horsepower', fontsize = fontsize, fontweight = 'bold')\n",
    "plt.legend(fontsize = fontsize - 2)\n",
    "\n",
    "plt.annotate(text = 'Datsun 280ZX', xy = (132.5, 33), fontsize = 12,\n",
    "             xytext = (150, 35), arrowprops=dict(facecolor='black', shrink=0.1));"
   ]
  },
  {
   "cell_type": "markdown",
   "metadata": {},
   "source": [
    "Once you are happy with your visualization, you can export it to a png or jpg file by using `plt.savefig()`. It is usually a good idea to use `plt.tight_layout()` prior to exporting to remove any excess whitespace around the edges of the figure."
   ]
  },
  {
   "cell_type": "code",
   "execution_count": null,
   "metadata": {},
   "outputs": [],
   "source": [
    "fontsize = 16\n",
    "\n",
    "plt.figure(figsize = (12,7))\n",
    "sns.scatterplot(data = cars, x = 'horsepower', y = 'mpg', s = 50,\n",
    "                hue = 'origin', palette = ['red', 'purple', 'skyblue'],\n",
    "                alpha = 0.7, edgecolor = 'black')\n",
    "plt.xticks(fontsize = fontsize)\n",
    "plt.xlabel('horsepower', fontsize = fontsize)\n",
    "plt.yticks(fontsize = fontsize)\n",
    "plt.ylabel('mpg', fontsize = fontsize)\n",
    "plt.title('MPG vs. Horsepower', fontsize = fontsize, fontweight = 'bold')\n",
    "plt.legend(fontsize = fontsize - 2)\n",
    "\n",
    "plt.annotate(text = 'Datsun 280ZX', xy = (132.5, 33), fontsize = 12,\n",
    "             xytext = (150, 35), arrowprops=dict(facecolor='black', shrink=0.1))\n",
    "\n",
    "plt.tight_layout()\n",
    "plt.savefig('../assets/mpg_vs_horsepower.png', dpi = 150);"
   ]
  },
  {
   "cell_type": "markdown",
   "metadata": {},
   "source": [
    "## Swarmplots\n",
    "\n",
    "Finally, let's look at how fuel economy changed over time. One option is to use a swarmplot, which will show all of the datapoints. Swarmplots are available through the seaborn module.\n",
    "\n",
    "You can start with a basic swarmplot."
   ]
  },
  {
   "cell_type": "code",
   "execution_count": null,
   "metadata": {},
   "outputs": [],
   "source": [
    "sns.stripplot(data = cars, x = 'model_year', y = 'mpg');"
   ]
  },
  {
   "cell_type": "markdown",
   "metadata": {},
   "source": [
    "Now, increate the figsize and add labels."
   ]
  },
  {
   "cell_type": "code",
   "execution_count": null,
   "metadata": {},
   "outputs": [],
   "source": [
    "fontsize = 16\n",
    "\n",
    "plt.subplots(figsize = (14, 6))\n",
    "sns.stripplot(data = cars, x = 'model_year', y = 'mpg')\n",
    "plt.xticks(fontsize = fontsize)\n",
    "plt.xlabel('Model Year', fontsize = fontsize)\n",
    "plt.yticks(fontsize = fontsize)\n",
    "plt.ylabel('mpg', fontsize = fontsize)\n",
    "plt.title('MPG by Model Year', fontsize = fontsize, fontweight = 'bold');"
   ]
  },
  {
   "cell_type": "markdown",
   "metadata": {},
   "source": [
    "In 1975, the Energy Policy and Conservation Act (EPCA) was passed by the United States Congress in response to the 1973 oil crisis. One aspect of this act set corporate average fuel economy standard for automobile manufacturers. By 1985, manufacturers were required to have an average fuel economy of 27.5 miles per gallon.\n",
    "\n",
    "Suppose that you want to show how the cars in our dataset stacked up to this requirement. One way to do this would be to add a line showing the standard level. This can be done using the `plt.hlines()` function.\n",
    "\n",
    "For this function, you need to specify the height (`y`) as well as where to start and end the line (`xmin` and `xmax`). In this case, it makes sense for the line to extend across the whole plot, so you can fetch the minimum and maximum x values using the `plt.xlim()` method. You can also set the way the line looks by setting a `linestyle`."
   ]
  },
  {
   "cell_type": "code",
   "execution_count": null,
   "metadata": {},
   "outputs": [],
   "source": [
    "fontsize = 16\n",
    "\n",
    "plt.subplots(figsize = (14, 6))\n",
    "sns.stripplot(data = cars, x = 'model_year', y = 'mpg')\n",
    "plt.xticks(fontsize = fontsize)\n",
    "plt.xlabel('Model Year', fontsize = fontsize)\n",
    "plt.yticks(fontsize = fontsize)\n",
    "plt.ylabel('mpg', fontsize = fontsize)\n",
    "plt.title('MPG by Model Year', fontsize = fontsize, fontweight = 'bold')\n",
    "\n",
    "xmin, xmax = plt.xlim()\n",
    "plt.hlines(y = 27.5, xmin = xmin, xmax = xmax, linestyle = '--');"
   ]
  },
  {
   "cell_type": "markdown",
   "metadata": {},
   "source": [
    "Finally, you should probably indicate what the meaning of our line is. You can do this by adding a `label` value to the `hlines()` call and then using `plt.legend()`."
   ]
  },
  {
   "cell_type": "code",
   "execution_count": null,
   "metadata": {},
   "outputs": [],
   "source": [
    "fontsize = 16\n",
    "\n",
    "plt.subplots(figsize = (14, 6))\n",
    "sns.stripplot(data = cars, x = 'model_year', y = 'mpg')\n",
    "plt.xticks(fontsize = fontsize)\n",
    "plt.xlabel('Model Year', fontsize = fontsize)\n",
    "plt.yticks(fontsize = fontsize)\n",
    "plt.ylabel('mpg', fontsize = fontsize)\n",
    "plt.title('MPG by Model Year', fontsize = fontsize, fontweight = 'bold')\n",
    "\n",
    "xmin, xmax = plt.xlim()\n",
    "plt.hlines(y = 27.5, xmin = xmin, xmax = xmax, linestyle = '--', label = 'EPCA Requirement')\n",
    "plt.legend(loc = 'upper left', fontsize = fontsize - 2);"
   ]
  },
  {
   "cell_type": "markdown",
   "metadata": {},
   "source": [
    "There are many, many ways to customize a plot using either matplotlib or seaborn.\n",
    "\n",
    "See, for example, this demo about creating multiple plots on the same figure: https://matplotlib.org/gallery/subplots_axes_and_figures/subplots_demo.html\n",
    "\n",
    "### Other visualization libraries to check out:\n",
    " - [seaborn](https://seaborn.pydata.org/)\n",
    "     - [DataCamp tutorial](https://www.datacamp.com/community/tutorials/seaborn-python-tutorial)\n",
    " - [altair](https://altair-viz.github.io/)\n",
    "     - [Jake Vanderplas tutorial](https://github.com/altair-viz/altair-tutorial)"
   ]
  }
 ],
 "metadata": {
  "kernelspec": {
   "display_name": "Python 3 (ipykernel)",
   "language": "python",
   "name": "python3"
  },
  "language_info": {
   "codemirror_mode": {
    "name": "ipython",
    "version": 3
   },
   "file_extension": ".py",
   "mimetype": "text/x-python",
   "name": "python",
   "nbconvert_exporter": "python",
   "pygments_lexer": "ipython3",
   "version": "3.8.3"
  }
 },
 "nbformat": 4,
 "nbformat_minor": 2
}
