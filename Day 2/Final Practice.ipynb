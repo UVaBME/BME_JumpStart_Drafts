{
 "cells": [
  {
   "cell_type": "markdown",
   "id": "4a9f15af-fd48-4225-b94e-9d102c7e1cd9",
   "metadata": {},
   "source": [
    "## Data Manipulation, Visualization, and Analysis Practice"
   ]
  },
  {
   "cell_type": "markdown",
   "id": "9b1c7f5d-8fc0-4d3f-b8fe-b2ec9496b5fd",
   "metadata": {},
   "source": [
    "## Part 1: Data manipulation\n"
   ]
  },
  {
   "cell_type": "markdown",
   "id": "afe2356c-492c-455f-9376-54d07e89d8e7",
   "metadata": {},
   "source": [
    "### 1.1 Read in the data\n",
    "We'll be using real cancer cell line data for this final practice, which comes from the [Cancer Cell Line Encyclopedia](https://sites.broadinstitute.org/ccle/datasets). We have sequencing data on 118 cell lines, which are our samples, for 20 different genes (features). These genes are each labeled by a gene name, which is a string of numbers and letters.\n",
    "\n",
    "We also have associated metadata for each of the samples, which includes information like the cancer type (`Site_primary`) and whether the cell line is from a tumor that was a primary tumor or a metastatic one. We'll read in these csv files separately and then work with them together to visualize them and do some exploratory analysis."
   ]
  },
  {
   "cell_type": "code",
   "execution_count": null,
   "id": "674fec89-1627-4e42-9a04-af43eacc25e3",
   "metadata": {},
   "outputs": [],
   "source": [
    "### Using pandas, read in the file \"cancer_cell_line_rnaseq.csv.\" This file has an index_row = 0 and header = 0.\n",
    "\n",
    "\n",
    "### Look at the first five rows of the dataframe. What do you notice about the data type for each column?"
   ]
  },
  {
   "cell_type": "code",
   "execution_count": null,
   "id": "b1d8ebd5-28b2-444c-aaa0-200a68f1daba",
   "metadata": {},
   "outputs": [],
   "source": [
    "### Using pandas, read in the file \"cell_line_metadata.csv.\" This file has an index_row = 0 and header = 0.\n",
    "\n",
    "\n",
    "### Look at the first five rows of the dataframe. What do you notice about the data type for each column? \n"
   ]
  },
  {
   "cell_type": "code",
   "execution_count": null,
   "id": "8c5e2d64-b096-438d-aac4-0cad137372b8",
   "metadata": {},
   "outputs": [],
   "source": [
    "### Are there any missing values in either dataset?"
   ]
  },
  {
   "cell_type": "code",
   "execution_count": null,
   "id": "ee05f0c4-0f98-4d7e-b69e-a64a6c0b175d",
   "metadata": {},
   "outputs": [],
   "source": []
  },
  {
   "cell_type": "markdown",
   "id": "1d69698d-7deb-400b-88d3-6e7fa3437367",
   "metadata": {},
   "source": [
    "### 1.2. Combine the datasets into one"
   ]
  },
  {
   "cell_type": "code",
   "execution_count": null,
   "id": "3c63b916-42e7-4cf3-81e5-854445d8dc30",
   "metadata": {},
   "outputs": [],
   "source": [
    "## Using concat or merge, combine the dataframes into a single one indexed by sample name.\n"
   ]
  },
  {
   "cell_type": "markdown",
   "id": "39462594-9d7c-4cc6-aa52-4c2bb8bef17e",
   "metadata": {},
   "source": [
    "## Part 2: Data Analysis and Visualization"
   ]
  },
  {
   "cell_type": "code",
   "execution_count": null,
   "id": "d02ee9cd-55b5-4986-b0e2-46a1ac661326",
   "metadata": {},
   "outputs": [],
   "source": [
    "## What does the distribution of ages look like for the dataset grouped by cancer type (Site_primary)? \n",
    "## Using a for loop, plot a histogram of the age distribution for each cancer type.\n"
   ]
  },
  {
   "cell_type": "code",
   "execution_count": null,
   "id": "83014763-d018-4a38-9129-53e0451b3388",
   "metadata": {},
   "outputs": [],
   "source": [
    "## Now use sns.kdeplot to plot all of the distributions on a single plot. \n"
   ]
  },
  {
   "cell_type": "markdown",
   "id": "9cc16dde-a912-40c2-b273-9814c519437f",
   "metadata": {},
   "source": [
    "### 2.1 T-test on primary versus metastasis tumors"
   ]
  },
  {
   "cell_type": "code",
   "execution_count": 1,
   "id": "52d39636-4e3b-4bc4-a544-010de4bbfbbe",
   "metadata": {},
   "outputs": [],
   "source": [
    "## Choose a gene and run a t-test on primary vs metastatic tumor-derived samples. Plot using a boxplot."
   ]
  },
  {
   "cell_type": "markdown",
   "id": "686e2f53-e783-4629-bc96-651e7c126ed6",
   "metadata": {},
   "source": [
    "### 2.2 Linear Regression"
   ]
  },
  {
   "cell_type": "code",
   "execution_count": null,
   "id": "1f63f1e0-9de4-4737-95d3-8b3fa04851d5",
   "metadata": {},
   "outputs": [],
   "source": [
    "## Is there a relationship between the mutation rate (mutRate in the metadata) and expression of any of the genes? \n",
    "## Run a linear regression model on mutation rate and a gene of your choice."
   ]
  },
  {
   "cell_type": "code",
   "execution_count": null,
   "id": "ecd8af0c-d73f-4f85-b399-cd5ac91daa04",
   "metadata": {},
   "outputs": [],
   "source": [
    "## Is the expression of any two genes correlated? Run a linear regression model between two genes \n",
    "## and plot a scatterplot with the line of best fit overlaid."
   ]
  }
 ],
 "metadata": {
  "kernelspec": {
   "display_name": "Python 3",
   "language": "python",
   "name": "python3"
  },
  "language_info": {
   "codemirror_mode": {
    "name": "ipython",
    "version": 3
   },
   "file_extension": ".py",
   "mimetype": "text/x-python",
   "name": "python",
   "nbconvert_exporter": "python",
   "pygments_lexer": "ipython3",
   "version": "3.7.12"
  }
 },
 "nbformat": 4,
 "nbformat_minor": 5
}
