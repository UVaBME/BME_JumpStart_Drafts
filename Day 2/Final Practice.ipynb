{
 "cells": [
  {
   "cell_type": "markdown",
   "id": "4a9f15af-fd48-4225-b94e-9d102c7e1cd9",
   "metadata": {},
   "source": [
    "## Data Manipulation, Visualization, and Analysis Practice"
   ]
  },
  {
   "cell_type": "markdown",
   "id": "9b1c7f5d-8fc0-4d3f-b8fe-b2ec9496b5fd",
   "metadata": {},
   "source": [
    "## Part 1: Data manipulation\n"
   ]
  },
  {
   "cell_type": "markdown",
   "id": "afe2356c-492c-455f-9376-54d07e89d8e7",
   "metadata": {},
   "source": [
    "### 1. Read in the data\n",
    "We'll be using real cancer cell line data for this final practice. We have sequencing data on 118 cell lines, which are our samples, for 20 different genes (features). These genes are each labeled by a gene name, which is a string of numbers and letters.\n",
    "\n",
    "We also have associated metadata for each of the samples, which includes information like the cancer type (`Site_primary`) and whether the cell line is from a tumor that was a primary tumor or a metastatic one. We'll read in these csv files separately and then work with them together to visualize them and do some exploratory analysis."
   ]
  },
  {
   "cell_type": "code",
   "execution_count": null,
   "id": "674fec89-1627-4e42-9a04-af43eacc25e3",
   "metadata": {},
   "outputs": [],
   "source": [
    "### Using pandas, read in the file \"cancer_cell_line_rnaseq.csv.\" This file has an index_row = 0 and header = 0.\n",
    "\n",
    "\n",
    "### Look at the first five rows of the dataframe. What do you notice about the data type for each column?"
   ]
  },
  {
   "cell_type": "code",
   "execution_count": null,
   "id": "b1d8ebd5-28b2-444c-aaa0-200a68f1daba",
   "metadata": {},
   "outputs": [],
   "source": [
    "### Using pandas, read in the file \"cell_line_metadata.csv.\" This file has an index_row = 0 and header = 0.\n",
    "\n",
    "\n",
    "### Look at the first five rows of the dataframe. What do you notice about the data type for each column? \n"
   ]
  },
  {
   "cell_type": "code",
   "execution_count": null,
   "id": "8c5e2d64-b096-438d-aac4-0cad137372b8",
   "metadata": {},
   "outputs": [],
   "source": [
    "### Are there any missing values in either dataset?"
   ]
  },
  {
   "cell_type": "code",
   "execution_count": null,
   "id": "ee05f0c4-0f98-4d7e-b69e-a64a6c0b175d",
   "metadata": {},
   "outputs": [],
   "source": []
  },
  {
   "cell_type": "code",
   "execution_count": null,
   "id": "5e40a7a7-20ac-43c1-bb93-6d89b4dfae39",
   "metadata": {},
   "outputs": [],
   "source": []
  },
  {
   "cell_type": "code",
   "execution_count": null,
   "id": "3c63b916-42e7-4cf3-81e5-854445d8dc30",
   "metadata": {},
   "outputs": [],
   "source": []
  },
  {
   "cell_type": "markdown",
   "id": "39462594-9d7c-4cc6-aa52-4c2bb8bef17e",
   "metadata": {},
   "source": [
    "## Part 2: Data Analysis and Visualization"
   ]
  },
  {
   "cell_type": "code",
   "execution_count": null,
   "id": "57ecc7d6-3ddb-4abd-9b5a-28498926ffd9",
   "metadata": {},
   "outputs": [],
   "source": []
  }
 ],
 "metadata": {
  "kernelspec": {
   "display_name": "Python 3",
   "language": "python",
   "name": "python3"
  },
  "language_info": {
   "codemirror_mode": {
    "name": "ipython",
    "version": 3
   },
   "file_extension": ".py",
   "mimetype": "text/x-python",
   "name": "python",
   "nbconvert_exporter": "python",
   "pygments_lexer": "ipython3",
   "version": "3.7.12"
  }
 },
 "nbformat": 4,
 "nbformat_minor": 5
}
