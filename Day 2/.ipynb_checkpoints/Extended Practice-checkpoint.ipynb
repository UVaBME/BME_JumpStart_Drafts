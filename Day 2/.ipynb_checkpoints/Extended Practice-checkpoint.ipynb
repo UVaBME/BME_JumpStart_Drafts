{
 "cells": [
  {
   "cell_type": "markdown",
   "id": "f27219d0-54cd-4142-8ee7-9f6bc241911f",
   "metadata": {
    "tags": []
   },
   "source": [
    "# Extended Practice: Clustering and Dimensionality Reduction"
   ]
  },
  {
   "cell_type": "markdown",
   "id": "a2f48206-b833-495d-ba78-351d27a9c127",
   "metadata": {},
   "source": [
    "<img src=\"http://1.bp.blogspot.com/-ME24ePzpzIM/UQLWTwurfXI/AAAAAAAAANw/W3EETIroA80/s1600/drop_shadows_background.png\" width=\"800px\"/>\n"
   ]
  },
  {
   "cell_type": "markdown",
   "id": "49e426e7-57c3-45f1-9dbe-5ba226179746",
   "metadata": {},
   "source": [
    "## Section 1: Clustering\n",
    "\n",
    "When we think there might be distinct clumps of samples in our dataset, we might want to try clustering. Clustering is an unsupervised approach, which means we don't give the model any labels for groupings in the data (even if they do exist). Instead we want to see if there are any patterns in the data just given the features of interest. "
   ]
  },
  {
   "cell_type": "code",
   "execution_count": null,
   "id": "90385569-2396-42a6-a714-8f50234df006",
   "metadata": {},
   "outputs": [],
   "source": []
  }
 ],
 "metadata": {
  "kernelspec": {
   "display_name": "Python 3",
   "language": "python",
   "name": "python3"
  },
  "language_info": {
   "codemirror_mode": {
    "name": "ipython",
    "version": 3
   },
   "file_extension": ".py",
   "mimetype": "text/x-python",
   "name": "python",
   "nbconvert_exporter": "python",
   "pygments_lexer": "ipython3",
   "version": "3.7.12"
  }
 },
 "nbformat": 4,
 "nbformat_minor": 5
}
