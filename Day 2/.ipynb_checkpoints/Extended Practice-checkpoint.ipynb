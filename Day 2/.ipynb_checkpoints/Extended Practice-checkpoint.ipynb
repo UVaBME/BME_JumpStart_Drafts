{
 "cells": [
  {
   "cell_type": "code",
   "execution_count": null,
   "id": "536bfef8-da3c-431b-95bc-a62f6347f28d",
   "metadata": {},
   "outputs": [],
   "source": []
  },
  {
   "cell_type": "markdown",
   "id": "49e426e7-57c3-45f1-9dbe-5ba226179746",
   "metadata": {},
   "source": [
    "## Section 2: Clustering\n",
    "\n",
    "When we think there might be distinct clumps of samples in our dataset, we might want to try clustering. Clustering is an unsupervised approach, which means we don't give the model any labels for groupings in the data (even if they do exist). Instead we want to see if there are any patterns in the data just given the features of interest. "
   ]
  }
 ],
 "metadata": {
  "kernelspec": {
   "display_name": "Python 3",
   "language": "python",
   "name": "python3"
  },
  "language_info": {
   "codemirror_mode": {
    "name": "ipython",
    "version": 3
   },
   "file_extension": ".py",
   "mimetype": "text/x-python",
   "name": "python",
   "nbconvert_exporter": "python",
   "pygments_lexer": "ipython3",
   "version": "3.7.12"
  }
 },
 "nbformat": 4,
 "nbformat_minor": 5
}
