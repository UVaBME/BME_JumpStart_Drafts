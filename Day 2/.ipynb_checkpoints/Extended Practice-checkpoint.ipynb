{
 "cells": [
  {
   "cell_type": "markdown",
   "id": "f27219d0-54cd-4142-8ee7-9f6bc241911f",
   "metadata": {
    "tags": []
   },
   "source": [
    "# Extended Practice: Clustering and Dimensionality Reduction"
   ]
  },
  {
   "cell_type": "markdown",
   "id": "a2f48206-b833-495d-ba78-351d27a9c127",
   "metadata": {},
   "source": [
    "<img src=\"http://1.bp.blogspot.com/-ME24ePzpzIM/UQLWTwurfXI/AAAAAAAAANw/W3EETIroA80/s1600/drop_shadows_background.png\" width=\"800px\"/>\n"
   ]
  },
  {
   "cell_type": "markdown",
   "id": "84d4a2b4-af57-4745-b849-f5249272348d",
   "metadata": {},
   "source": [
    "We'll use the same data as in the Final Practice notebook: cancer cell line sequencing data from the CCLE. We have associated metadata for the samples that detail information about each patient's tumor from which each cell line was derived.\n",
    "\n",
    "First, read in the data. We'll want to keep the metadata and the sequencing datasets separate for these applications."
   ]
  },
  {
   "cell_type": "code",
   "execution_count": null,
   "id": "674fec89-1627-4e42-9a04-af43eacc25e3",
   "metadata": {},
   "outputs": [],
   "source": [
    "### Using pandas, read in the file \"cancer_cell_line_rnaseq.csv.\" This file has an index_row = 0 and header = 0.\n",
    "\n",
    "\n",
    "### Look at the first five rows of the dataframe. What do you notice about the data type for each column?"
   ]
  },
  {
   "cell_type": "code",
   "execution_count": null,
   "id": "b1d8ebd5-28b2-444c-aaa0-200a68f1daba",
   "metadata": {},
   "outputs": [],
   "source": [
    "### Using pandas, read in the file \"cell_line_metadata.csv.\" This file has an index_row = 0 and header = 0.\n",
    "\n",
    "\n",
    "### Look at the first five rows of the dataframe. What do you notice about the data type for each column? \n"
   ]
  },
  {
   "cell_type": "code",
   "execution_count": null,
   "id": "8c5e2d64-b096-438d-aac4-0cad137372b8",
   "metadata": {},
   "outputs": [],
   "source": [
    "### Are there any missing values in either dataset?"
   ]
  },
  {
   "cell_type": "markdown",
   "id": "3eb8e962-5a75-4c4a-a3ac-523b473c2f43",
   "metadata": {},
   "source": [
    "## Section 1: Dimensionality Reduction\n",
    "\n",
    "Dimensionality reduction is a great way to visualize high dimensional data. This is a very important first step to data analysis when you can't visualize your data easily in two dimensions, because it will give you an idea of it there are any patterns in the dataset. "
   ]
  },
  {
   "cell_type": "markdown",
   "id": "a1e84b63-f15a-4ae0-a873-70d9d10d5cd0",
   "metadata": {},
   "source": [
    "![image.png](https://www.ncbi.nlm.nih.gov/pmc/articles/PMC7650282/bin/13059_2020_2133_Fig1_HTML.jpg)\n",
    "\n",
    "Source: https://www.ncbi.nlm.nih.gov/pmc/articles/PMC7650282/"
   ]
  },
  {
   "cell_type": "markdown",
   "id": "0eb6aa54-8b91-4377-bf51-ec90b6d884d6",
   "metadata": {},
   "source": [
    "Probably the most common form of dimensionality reduction is **Principal Components Analysis**, or PCA. There is a great visual exploration of PCA [here](https://setosa.io/ev/principal-component-analysis/) if you are unfamiliar with the technique. Essentially, we want to find the axis of highest variance in our dataset, and then rotate our data so that this axis becomes our x-axis in a plot. The axis with the next highest variance (which must be _orthogonal_ to the first axis) becomes our y-axis, the third becomes a z-axis, etc. You can also utilize tons of information about the PCA model itself without plotting; for example, this analysis will tell us which of our features are contributing the most the variance in each component. So using PCA we can get an idea of which features might be most important for distinguishing samples and understanding patterns in the data."
   ]
  },
  {
   "cell_type": "markdown",
   "id": "0241dc7f-4cd0-49f5-a3da-5dbd7cd1f48e",
   "metadata": {},
   "source": [
    "![image.png](data:image/jpeg;base64,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)"
   ]
  },
  {
   "cell_type": "markdown",
   "id": "025fcf3a-03cc-4ae6-b2c4-6a5bc12ab849",
   "metadata": {},
   "source": [
    "To execute a PCA, we'll once again use sklearn, and build a PCA model in a very similar way that we built the Linear Regression model earlier."
   ]
  },
  {
   "cell_type": "code",
   "execution_count": null,
   "id": "1e02d476-b3f6-48b5-ae95-b5166da562a8",
   "metadata": {},
   "outputs": [],
   "source": [
    "from sklearn.decomposition import PCA"
   ]
  },
  {
   "cell_type": "markdown",
   "id": "9e2f26b0-239d-4f23-a3f3-7b86b2e7a62d",
   "metadata": {},
   "source": [
    "### Step 1: Define the input data"
   ]
  },
  {
   "cell_type": "code",
   "execution_count": null,
   "id": "eed22860-d198-4bc8-9101-4590a480aa2d",
   "metadata": {},
   "outputs": [],
   "source": [
    "## Convert the sequencing dataset to a numpy array (samples x features)\n",
    "data = ##"
   ]
  },
  {
   "cell_type": "markdown",
   "id": "3815d666-9f3a-4915-b2c9-310ebdd388ad",
   "metadata": {},
   "source": [
    "### Step 2: Create a model\n",
    "\n",
    "Here we will define that we want a 2-dimensional PCA-- i.e. the top 2 components. We could also leave this blank, and the PCA will keep all the components."
   ]
  },
  {
   "cell_type": "code",
   "execution_count": null,
   "id": "4a37a32e-d858-43f8-9630-4d7ab3e5dece",
   "metadata": {},
   "outputs": [],
   "source": [
    "pca = PCA(n_components=2)\n",
    "X_pca = pca.transform(data)"
   ]
  },
  {
   "cell_type": "markdown",
   "id": "39259e31-7ca7-483f-afbb-06a5bea2017f",
   "metadata": {},
   "source": [
    "### Step 3: Fit the model\n",
    "\n",
    "Here we will fit the model to our data. This step is often combined with Step 2 in a single line of code."
   ]
  },
  {
   "cell_type": "code",
   "execution_count": null,
   "id": "acab5f1e-3273-4652-a03b-cda9b4c90de3",
   "metadata": {},
   "outputs": [],
   "source": [
    "pca.fit(data)"
   ]
  },
  {
   "cell_type": "markdown",
   "id": "14ffdada-6808-453c-948c-151f0c8dfd58",
   "metadata": {},
   "source": [
    "### Step 4: Transform our data to the principal components"
   ]
  },
  {
   "cell_type": "code",
   "execution_count": null,
   "id": "8f9e9027-82d2-48ab-9e86-e26a6d1ba544",
   "metadata": {},
   "outputs": [],
   "source": [
    "X_pca = pca.transform(data)"
   ]
  },
  {
   "cell_type": "markdown",
   "id": "806df51d-e4e4-41b9-8c11-9fbd5a2662d6",
   "metadata": {},
   "source": [
    "### Step 5: Visualize top components"
   ]
  },
  {
   "cell_type": "code",
   "execution_count": null,
   "id": "2fd56436-f7e0-437d-a0a4-2176f71ebb16",
   "metadata": {},
   "outputs": [],
   "source": []
  },
  {
   "cell_type": "markdown",
   "id": "49e426e7-57c3-45f1-9dbe-5ba226179746",
   "metadata": {},
   "source": [
    "## Section 2: Clustering\n",
    "\n",
    "When we think there might be distinct clumps of samples in our dataset, we might want to try clustering. Clustering is an unsupervised approach, which means we don't give the model any labels for groupings in the data (even if they do exist). Instead we want to see if there are any patterns in the data just given the features of interest. "
   ]
  },
  {
   "cell_type": "code",
   "execution_count": null,
   "id": "f557b187-3520-4759-9819-680443d4ef36",
   "metadata": {},
   "outputs": [],
   "source": []
  },
  {
   "cell_type": "markdown",
   "id": "795cbe36-74e9-4340-98cb-5908a14d209a",
   "metadata": {},
   "source": [
    "## Section 3: Classification"
   ]
  },
  {
   "cell_type": "code",
   "execution_count": null,
   "id": "aece0c60-936e-40d8-9c36-1771eb6f3ec7",
   "metadata": {},
   "outputs": [],
   "source": []
  }
 ],
 "metadata": {
  "kernelspec": {
   "display_name": "Python 3",
   "language": "python",
   "name": "python3"
  },
  "language_info": {
   "codemirror_mode": {
    "name": "ipython",
    "version": 3
   },
   "file_extension": ".py",
   "mimetype": "text/x-python",
   "name": "python",
   "nbconvert_exporter": "python",
   "pygments_lexer": "ipython3",
   "version": "3.7.12"
  }
 },
 "nbformat": 4,
 "nbformat_minor": 5
}
