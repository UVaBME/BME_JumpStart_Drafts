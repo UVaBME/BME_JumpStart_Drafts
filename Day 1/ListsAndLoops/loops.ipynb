{
 "cells": [
  {
   "cell_type": "markdown",
   "metadata": {},
   "source": [
    "# Lesson 5: Avoiding repetition with Lists and Loops\n",
    "\n",
    "To this point, we have focused on variables holding a single value or operations performed only once. But, what if we have many values that we want to store or many operations that we want to perform? This is where lists and loops come in. In this module, we will learn how to harness the power of lists and loops to make our code more efficient and powerful.\n",
    "\n",
    "Learning objectives of this module:\n",
    "1. Learn the purpose of lists, how to create one, and how to manipulate them.\n",
    "2. __Learn how to use loops to repeat operations, including how to use loops to iterate through lists. There are two main types of loops we will discuss:__\n",
    "    - __For loops__\n",
    "    - __While loops__\n",
    "3. __Learn how to combine loops with conditionals to create more complex programs.__\n",
    "4. Briefly introduce the idea of vectorized operations and numpy arrays: a more efficient way to perform operations on lists of numbers."
   ]
  },
  {
   "cell_type": "markdown",
   "metadata": {},
   "source": [
    "### Lesson 5.2: Loops\n",
    "\n",
    "In the previous lesson, we discussed lists and other similar objects that allow you to store multiple values in a single variable. But with our current tools, if we wanted to perform an operation on each of the values in a list, we would have to do so one line at a time, which again would be tedious. Let's say we have a list of length measurements in micrometers that we need to convert to meters. We could do this like this:"
   ]
  },
  {
   "cell_type": "code",
   "execution_count": 6,
   "metadata": {},
   "outputs": [
    {
     "data": {
      "text/plain": [
       "[0.1, 0.01, 0.02, 0.015]"
      ]
     },
     "execution_count": 6,
     "metadata": {},
     "output_type": "execute_result"
    }
   ],
   "source": [
    "measurements = [100, 10, 20, 15]\n",
    "\n",
    "measurements[0] = measurements[0]/1000\n",
    "measurements[1] = measurements[1]/1000\n",
    "measurements[2] = measurements[2]/1000\n",
    "measurements[3] = measurements[3]/1000\n",
    "measurements"
   ]
  },
  {
   "cell_type": "markdown",
   "metadata": {},
   "source": [
    "But this isn't ideal, and isn't feasible for larger lists. That's where loops come in! Loops are used to repeat lines of code multiple times, allowing for the same task to be performed on multiple values. These repeated processes are called __iterations__. \n",
    "\n",
    "In this lesson, we will cover two main types of loops:\n",
    "- `for` loops: used to iterate a specific number of times or to iterate over a sequence of values, such as those contained in a list\n",
    "- `while` loops: used to iterate until a certain condition is met\n",
    "\n",
    "For loops are little easier to understand and use appropriately, so let's start there:"
   ]
  },
  {
   "cell_type": "markdown",
   "metadata": {},
   "source": [
    "### For Loops: A Clear End To Repetition\n",
    "\n",
    "With for loops, we can repeat a block of code a set number of times. The classic notation of for loops usually looks something like this:\n",
    "\n",
    "```\n",
    "for i = 0 To 9\n",
    "    Do something 10 times\n",
    "```\n",
    "Where `i` is incremented by 1 with each iteration and the loop continues until `i` reaches 9 (so you repeat the process 10 times). In Python, it's the same idea, but instead of iterating over a set of numbers, we iterate over a type of object called an iterator. __iterables__ are a group of data types which can be used as an iterator. These include, but are not limited to:\n",
    "- range objects\n",
    "- Lists\n",
    "- Tuples\n",
    "- Sets\n",
    "- Strings\n",
    "- Numpy Arrays (we'll get to these later)\n",
    "- Pandas DataFrames (we'll get to these later)\n",
    "\n",
    "Let's see an example of a loop in python, returning to our metric conversion example:"
   ]
  },
  {
   "cell_type": "code",
   "execution_count": 9,
   "metadata": {},
   "outputs": [
    {
     "name": "stdout",
     "output_type": "stream",
     "text": [
      "0.1\n",
      "0.01\n",
      "0.02\n",
      "0.015\n"
     ]
    }
   ],
   "source": [
    "#initialize list\n",
    "measurements = [100, 10, 20, 15]\n",
    "\n",
    "#divide each measurement by 1000, then print it out\n",
    "for item in measurements:\n",
    "    item = item/1000\n",
    "    print(item)"
   ]
  },
  {
   "cell_type": "markdown",
   "metadata": {},
   "source": [
    "Here, we have set up a for loop to iterate over our list, meaning that the loop will start with the first item in `measurements`, copy it to `item`, and the perform the indented code (divide `item` by 1000 and then print it out). It will then repeat this with the second item in `measurements`, and so on, until it reaches the end of the list. But did we actually do anything to the list? Let's check:"
   ]
  },
  {
   "cell_type": "code",
   "execution_count": 10,
   "metadata": {},
   "outputs": [
    {
     "data": {
      "text/plain": [
       "[100, 10, 20, 15]"
      ]
     },
     "execution_count": 10,
     "metadata": {},
     "output_type": "execute_result"
    }
   ],
   "source": [
    "measurements"
   ]
  },
  {
   "cell_type": "markdown",
   "metadata": {},
   "source": [
    "Hmm, the list appears unchanged. Why might that be? Let's briefly talk about what is happening under the hood here. When our `measurements` list was used in the `for` clause, it was converted into an interator, the first element of the list was *copied* into the `item` variable. It is no longer associated with our list. If we want to change the list, we need to explicitly do so within the for loop. To do this, we need to make use of the built-in `enumerate()` function, which will copy both the index and the value of the item in the list at that index for each iteration. Let's see how this works:"
   ]
  },
  {
   "cell_type": "code",
   "execution_count": 16,
   "metadata": {},
   "outputs": [
    {
     "name": "stdout",
     "output_type": "stream",
     "text": [
      "The current index is 0 and the current item is 100\n",
      "The current index is 1 and the current item is 10\n",
      "The current index is 2 and the current item is 20\n",
      "The current index is 3 and the current item is 15\n"
     ]
    },
    {
     "data": {
      "text/plain": [
       "[0.1, 0.01, 0.02, 0.015]"
      ]
     },
     "execution_count": 16,
     "metadata": {},
     "output_type": "execute_result"
    }
   ],
   "source": [
    "#initialize list\n",
    "measurements = [100, 10, 20, 15]\n",
    "\n",
    "#divide each measurement by 1000, then print it out\n",
    "for index, item in enumerate(measurements):\n",
    "    #print out the values of index and item\n",
    "    print(\"The current index is\", index, \"and the current item is\", item)\n",
    "\n",
    "    #convert the item measurment and update our list\n",
    "    item = item/1000\n",
    "    measurements[index] = item\n",
    "measurements"
   ]
  },
  {
   "cell_type": "markdown",
   "metadata": {},
   "source": []
  }
 ],
 "metadata": {
  "kernelspec": {
   "display_name": "splice",
   "language": "python",
   "name": "python3"
  },
  "language_info": {
   "codemirror_mode": {
    "name": "ipython",
    "version": 3
   },
   "file_extension": ".py",
   "mimetype": "text/x-python",
   "name": "python",
   "nbconvert_exporter": "python",
   "pygments_lexer": "ipython3",
   "version": "3.11.4"
  },
  "orig_nbformat": 4
 },
 "nbformat": 4,
 "nbformat_minor": 2
}
