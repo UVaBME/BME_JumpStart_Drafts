{
 "cells": [
  {
   "cell_type": "code",
   "execution_count": null,
   "metadata": {},
   "outputs": [],
   "source": []
  },
  {
   "cell_type": "markdown",
   "metadata": {},
   "source": [
    "# Solutions to Lesson 3 Exercises"
   ]
  },
  {
   "cell_type": "markdown",
   "metadata": {},
   "source": [
    "## Exercise 3.1.1\n",
    "\n",
    "### Question\n",
    "\n",
    "Let's practice indexing on a larger list. Running the below code which will generate a list with 100 items, counting from 1 to 100. Don't worry too much about these details for now, but the `range()` function is a builtin python function that generates a list of numbers from the provided start value (1) to the stop value (101), similar to slices discussed previously. The `list()` function converts the range object outputted by `range()` to a list.\n",
    "\n",
    "Editing the below code block, return the following items:\n",
    "1. The first item in the list = 1\n",
    "2. The last item in the list = 100\n",
    "3. The 50th item in the list = 50\n",
    "4. The 10th, 11th, and 12th item in the list = [10, 11, 12]\n",
    "5. The last 5 items in the list = [96, 97, 98, 99, 100]\n",
    "6. The 3rd, 6th, and 9th item in the list = [3, 6, 9]\n",
    "7. Play around a bit! \n"
   ]
  },
  {
   "cell_type": "code",
   "execution_count": null,
   "metadata": {},
   "outputs": [],
   "source": [
    "#initialize list from 1 to 100\n",
    "my_long_list = list(range(1, 101))\n",
    "\n",
    "#edit the code here to output specific elements from the list\n",
    "my_output = my_long_list\n",
    "print(my_output)"
   ]
  },
  {
   "cell_type": "markdown",
   "metadata": {},
   "source": [
    "### Solutions\n",
    "\n",
    "1. `my_long_list[0]`\n",
    "2. `my_long_list[-1]`\n",
    "3. `my_long_list[49]`\n",
    "4. `my_long_list[9:12]`\n",
    "5. `my_long_list[-5:]` or `my_long_list[95:]`\n",
    "6. `my_long_list[3:10:3]`"
   ]
  },
  {
   "cell_type": "markdown",
   "metadata": {},
   "source": [
    "## Exercise 3.1.2\n",
    "\n",
    "### Question\n",
    "\n",
    "Given a 5 x 5 matrix provided below, access the following elements of our list/matrix (answer in parentheses):\n",
    "1. The fourth nested list = [16, 17, 18, 19, 20]\n",
    "2. The 4th element in the 3rd list = 14\n",
    "3. The element in the 4th row and 3rd column = 14\n",
    "4. The first two elements in the second row = [6, 7]\n",
    "5. The last two elements in the fourth row = [19, 20]"
   ]
  },
  {
   "cell_type": "code",
   "execution_count": 1,
   "metadata": {},
   "outputs": [
    {
     "name": "stdout",
     "output_type": "stream",
     "text": [
      "[[1, 2, 3, 4, 5], [6, 7, 8, 9, 10], [11, 12, 13, 14, 15], [16, 17, 18, 19, 20], [21, 22, 23, 24, 25]]\n"
     ]
    }
   ],
   "source": [
    "#initialize the nested lists: it can often make it easier to read if you put each list/row on a separate line and indent it. It runs exactly the same!\n",
    "my_matrix = [[1,2,3,4,5],\n",
    "             [6,7,8,9,10],\n",
    "             [11,12,13,14,15],\n",
    "             [16,17,18,19,20],\n",
    "             [21,22,23,24,25]]\n",
    "\n",
    "### edit code here ###\n",
    "my_item = my_matrix\n",
    "\n",
    "#print element\n",
    "print(my_item)"
   ]
  },
  {
   "cell_type": "code",
   "execution_count": 3,
   "metadata": {},
   "outputs": [
    {
     "data": {
      "text/plain": [
       "14"
      ]
     },
     "execution_count": 3,
     "metadata": {},
     "output_type": "execute_result"
    }
   ],
   "source": [
    "my_matrix[2][3]"
   ]
  },
  {
   "cell_type": "markdown",
   "metadata": {},
   "source": [
    "### Solutions\n",
    "\n",
    "1. `my_matrix[3]`\n",
    "2. `my_matrix[2][3]`\n",
    "3. `my_matrix[2][3]`\n",
    "4. `my_matrix[1][0:2]`\n",
    "5. `my_matrix[3][-2:]`"
   ]
  },
  {
   "cell_type": "markdown",
   "metadata": {},
   "source": [
    "## Exercise 3.1.3\n",
    "\n",
    "### Question\n",
    "\n",
    "Editing the code where denoted, perform the following tasks:\n",
    "1. Combine the two lists below into a single list and then append the value `25` to the end of the list\n",
    "2. Divide the first element in the list by 5\n",
    "3. Remove the last element in the list\n",
    "\n",
    "The output after completing each task should like like this\n",
    "```\n",
    "Part 1 solution: [5,10,15,20]\n",
    "Part 2 solution: [5,10,15,20,25]\n",
    "Part 3 solution: [1,10,15,20,25]\n",
    "Part 4 solution: [1,10,15,20]\n",
    "```"
   ]
  },
  {
   "cell_type": "code",
   "execution_count": null,
   "metadata": {},
   "outputs": [],
   "source": [
    "first_list = [5, 10]\n",
    "second_list = [15, 20]\n",
    "\n",
    "# Add the two lists together (edit below)\n",
    "combined_list \n",
    "print('Part 1 solution:', combined_list)\n",
    "\n",
    "# Append 25 to the combined list (edit below)\n",
    "combined_list                                      \n",
    "print('Part 2 solution:', combined_list)\n",
    "\n",
    "# Divide the first element of the list by 5 (edit below)\n",
    "combined_list[0]                            \n",
    "print('Part 3 solution:', combined_list)\n",
    "\n",
    "# Remove the last element of the list (edit below)\n",
    "combined_list    \n",
    "print('Part 4 solution:', combined_list)"
   ]
  },
  {
   "cell_type": "markdown",
   "metadata": {},
   "source": [
    "### Solution"
   ]
  },
  {
   "cell_type": "code",
   "execution_count": 4,
   "metadata": {},
   "outputs": [
    {
     "name": "stdout",
     "output_type": "stream",
     "text": [
      "Part 1 solution: [5, 10, 15, 20]\n",
      "Part 2 solution: [5, 10, 15, 20, 25]\n",
      "Part 3 solution: [1.0, 10, 15, 20, 25]\n",
      "Part 4 solution: [1.0, 10, 15, 20]\n"
     ]
    }
   ],
   "source": [
    "first_list = [5, 10]\n",
    "second_list = [15, 20]\n",
    "\n",
    "# Add the two lists together (edit below)\n",
    "combined_list = first_list + second_list\n",
    "print('Part 1 solution:', combined_list)\n",
    "\n",
    "# Append 25 to the combined list (edit below)\n",
    "combined_list.append(25)                                      \n",
    "print('Part 2 solution:', combined_list)\n",
    "\n",
    "# Divide the first element of the list by 5 (edit below)\n",
    "combined_list[0] = combined_list[0] / 5                         \n",
    "print('Part 3 solution:', combined_list)\n",
    "\n",
    "# Remove the last element of the list (edit below)\n",
    "combined_list.pop(-1)  \n",
    "print('Part 4 solution:', combined_list)"
   ]
  },
  {
   "cell_type": "markdown",
   "metadata": {},
   "source": [
    "## Exercise 3.2.1\n",
    "\n",
    "### Problem 1\n",
    "\n",
    "Write a for loop that sums the numbers from 1 to 100. Print the sum after the loop.\n",
    "\n",
    "*Hint: you can use `range(1,101)` to get an iterator from 1 to 100*\n",
    "\n",
    "Answer = 5050\n",
    "\n",
    "### Solution"
   ]
  },
  {
   "cell_type": "code",
   "execution_count": 5,
   "metadata": {},
   "outputs": [
    {
     "name": "stdout",
     "output_type": "stream",
     "text": [
      "5050\n"
     ]
    }
   ],
   "source": [
    "my_sum = 0\n",
    "\n",
    "#your code here!\n",
    "for i in range(1, 101):\n",
    "    my_sum = my_sum + i\n",
    "\n",
    "\n",
    "print(my_sum)"
   ]
  },
  {
   "cell_type": "markdown",
   "metadata": {},
   "source": [
    "### Problem 2\n",
    "\n",
    "Write a for loop to iterate over a list of numbers and square each number in the list. Print the list of squared numbers. Try doing this two different ways: (1) editing the original list, and (2) creating a new list and storing the new values in that list.\n",
    "\n",
    "### Solution \n"
   ]
  },
  {
   "cell_type": "code",
   "execution_count": 6,
   "metadata": {},
   "outputs": [
    {
     "name": "stdout",
     "output_type": "stream",
     "text": [
      "[1, 4, 9, 16]\n",
      "[1, 4, 9, 16]\n"
     ]
    }
   ],
   "source": [
    "my_list = [1, 2, 3, 4]\n",
    "\n",
    "#creating a new list with the values squared\n",
    "new_list = []\n",
    "for item in my_list:\n",
    "    new_list.append(item ** 2)\n",
    "\n",
    "#editing the original list\n",
    "for index, item in enumerate(my_list):\n",
    "    my_list[index] = item ** 2\n",
    "\n",
    "# the original, edited list\n",
    "print(my_list)\n",
    "print(new_list)"
   ]
  },
  {
   "cell_type": "markdown",
   "metadata": {},
   "source": [
    "### Problem 3\n",
    "\n",
    "You have a sequence of DNA. You would like to calculate the GC content of the DNA sequence. The GC content is the percentage of a DNA sequence that consists of guanine or cytosine bases. Use a for loop to calculate the GC content.\n",
    "\n",
    "*Hint: count the number of G's and C's in the sequence by including a conditional statement in your loop that checks if the base is a G or C before adding it to the count.*\n",
    "\n",
    "Answer = 0.5"
   ]
  },
  {
   "cell_type": "markdown",
   "metadata": {},
   "source": [
    "### Solution"
   ]
  },
  {
   "cell_type": "code",
   "execution_count": 7,
   "metadata": {},
   "outputs": [
    {
     "name": "stdout",
     "output_type": "stream",
     "text": [
      "0.5\n"
     ]
    }
   ],
   "source": [
    "seq = 'ACCGTTAGCAATGCTCGATCGATCGATCGATCGATCGATCGATCGATCGATCGATCAGATCG'\n",
    "\n",
    "gc_count = 0\n",
    "\n",
    "# your code here!\n",
    "for base in seq:\n",
    "    if base == 'G' or base == 'C':\n",
    "        gc_count = gc_count + 1\n",
    "\n",
    "# using the number of Gs and Cs, calculate the GC content, and print\n",
    "gc_content = gc_count/len(seq)\n",
    "print(gc_content)"
   ]
  },
  {
   "cell_type": "markdown",
   "metadata": {},
   "source": [
    "## Exercise 3.2.2\n",
    "\n",
    "### Question\n",
    "\n",
    "You decide to invest that $20 in the best performing stock ever, which doubles your money every week. Use a while loop to calculate how many weeks it will take until you are a millionaire. Print the number of weeks it will take.\n",
    "\n",
    "### Solution"
   ]
  },
  {
   "cell_type": "code",
   "execution_count": 8,
   "metadata": {},
   "outputs": [
    {
     "name": "stdout",
     "output_type": "stream",
     "text": [
      "16\n"
     ]
    }
   ],
   "source": [
    "#initialize your starting money and the starting week\n",
    "my_money = 20\n",
    "weeks = 0\n",
    "\n",
    "# Your code here!\n",
    "while my_money < 1e6:\n",
    "    my_money = my_money * 2\n",
    "    weeks = weeks + 1\n",
    "print(weeks)"
   ]
  }
 ],
 "metadata": {
  "kernelspec": {
   "display_name": "kstar-dev",
   "language": "python",
   "name": "python3"
  },
  "language_info": {
   "codemirror_mode": {
    "name": "ipython",
    "version": 3
   },
   "file_extension": ".py",
   "mimetype": "text/x-python",
   "name": "python",
   "nbconvert_exporter": "python",
   "pygments_lexer": "ipython3",
   "version": "3.10.8"
  },
  "orig_nbformat": 4
 },
 "nbformat": 4,
 "nbformat_minor": 2
}
