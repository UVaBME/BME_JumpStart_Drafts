{
 "cells": [
  {
   "cell_type": "markdown",
   "id": "cf3ad44c",
   "metadata": {},
   "source": [
    "# Practice problems\n",
    "\n",
    "Complete the questions that follow"
   ]
  },
  {
   "cell_type": "markdown",
   "id": "9fcb7872",
   "metadata": {},
   "source": [
    "### Variables and Arithmetic Operators"
   ]
  },
  {
   "cell_type": "markdown",
   "id": "e20e8d8f",
   "metadata": {},
   "source": [
    "1. Set the variable `my_name` to your name and then print it."
   ]
  },
  {
   "cell_type": "code",
   "execution_count": 2,
   "id": "685b2e90",
   "metadata": {},
   "outputs": [
    {
     "ename": "SyntaxError",
     "evalue": "invalid syntax (2586941877.py, line 1)",
     "output_type": "error",
     "traceback": [
      "\u001b[0;36m  File \u001b[0;32m\"/var/folders/lm/cpp55nhx4x9gsyrln06p49980000gn/T/ipykernel_5240/2586941877.py\"\u001b[0;36m, line \u001b[0;32m1\u001b[0m\n\u001b[0;31m    my_name =\u001b[0m\n\u001b[0m              ^\u001b[0m\n\u001b[0;31mSyntaxError\u001b[0m\u001b[0;31m:\u001b[0m invalid syntax\n"
     ]
    }
   ],
   "source": [
    "my_name = \n",
    "\n",
    "print()"
   ]
  },
  {
   "cell_type": "markdown",
   "id": "f74e9b0b",
   "metadata": {},
   "source": [
    "2. Now, use string interpolation to add your name to a string that says, \"My name is YOURNAME\" – here, YOURNAME should be replaced with the value saved to `my_name`."
   ]
  },
  {
   "cell_type": "code",
   "execution_count": 5,
   "id": "286a389e",
   "metadata": {},
   "outputs": [
    {
     "name": "stdout",
     "output_type": "stream",
     "text": [
      "\n"
     ]
    }
   ],
   "source": [
    "my_name_string = \n",
    "\n",
    "print(f\"My name is {}\")"
   ]
  },
  {
   "cell_type": "markdown",
   "id": "cdbc95e8",
   "metadata": {},
   "source": [
    "4. Multiply `x` and `y`, save them to a variable called `z` and print the result. The results should be 250."
   ]
  },
  {
   "cell_type": "code",
   "execution_count": 3,
   "id": "89ce4e04",
   "metadata": {},
   "outputs": [
    {
     "name": "stdout",
     "output_type": "stream",
     "text": [
      "250\n"
     ]
    }
   ],
   "source": [
    "x = 10\n",
    "y = 25\n",
    "\n"
   ]
  },
  {
   "cell_type": "markdown",
   "id": "5b3783cc",
   "metadata": {},
   "source": [
    "5. Use the variables `x`, `y`, and `z` (set below) and mathematical operators (`+`, `-`, `*`, and `/`) that results in the value `10`. Set this to the `result` variable and then print it."
   ]
  },
  {
   "cell_type": "code",
   "execution_count": 8,
   "id": "241d3201",
   "metadata": {},
   "outputs": [
    {
     "name": "stdout",
     "output_type": "stream",
     "text": [
      "10\n"
     ]
    }
   ],
   "source": [
    "x = 4\n",
    "y = 5\n",
    "z = 11\n",
    "\n",
    "result = "
   ]
  },
  {
   "cell_type": "code",
   "execution_count": null,
   "id": "d9083c86",
   "metadata": {},
   "outputs": [],
   "source": [
    "6. "
   ]
  },
  {
   "cell_type": "code",
   "execution_count": null,
   "id": "86a8dd1f",
   "metadata": {},
   "outputs": [],
   "source": []
  },
  {
   "cell_type": "code",
   "execution_count": null,
   "id": "01409f6d",
   "metadata": {},
   "outputs": [],
   "source": []
  },
  {
   "cell_type": "code",
   "execution_count": null,
   "id": "a547e354",
   "metadata": {},
   "outputs": [],
   "source": []
  },
  {
   "cell_type": "markdown",
   "id": "ddc75c0d",
   "metadata": {},
   "source": []
  },
  {
   "cell_type": "markdown",
   "id": "ab9d803c",
   "metadata": {},
   "source": [
    "### Boolean data and Conditionals"
   ]
  },
  {
   "cell_type": "markdown",
   "id": "3e96342a",
   "metadata": {},
   "source": [
    "1. Set x to a value that will make the following code print \"Success!\""
   ]
  },
  {
   "cell_type": "code",
   "execution_count": null,
   "id": "cd2b2988",
   "metadata": {},
   "outputs": [],
   "source": [
    "x = \n",
    "\n",
    "if x > 5:\n",
    "    print(\"Success!\")"
   ]
  },
  {
   "cell_type": "markdown",
   "id": "3bfffeb4",
   "metadata": {},
   "source": [
    "2. Set x to a value that will make the following code print \"Inside the else!\""
   ]
  },
  {
   "cell_type": "code",
   "execution_count": 10,
   "id": "54bacc7e",
   "metadata": {},
   "outputs": [
    {
     "name": "stdout",
     "output_type": "stream",
     "text": [
      "Inside the else!\n"
     ]
    }
   ],
   "source": [
    "x = \n",
    "\n",
    "if x != 4:\n",
    "    print(\"Inside the if!\")\n",
    "else:\n",
    "    print(\"Inside the else!\")"
   ]
  },
  {
   "cell_type": "markdown",
   "id": "6f008f8e",
   "metadata": {},
   "source": [
    "3. Set `x` to a value and add a boolean expression to the `if` block of this `if-elif-else` block so the code will print, \"Inside the elif!\""
   ]
  },
  {
   "cell_type": "code",
   "execution_count": 11,
   "id": "f39c2041",
   "metadata": {},
   "outputs": [
    {
     "ename": "SyntaxError",
     "evalue": "invalid syntax (1013186381.py, line 1)",
     "output_type": "error",
     "traceback": [
      "\u001b[0;36m  File \u001b[0;32m\"/var/folders/lm/cpp55nhx4x9gsyrln06p49980000gn/T/ipykernel_98953/1013186381.py\"\u001b[0;36m, line \u001b[0;32m1\u001b[0m\n\u001b[0;31m    x =\u001b[0m\n\u001b[0m        ^\u001b[0m\n\u001b[0;31mSyntaxError\u001b[0m\u001b[0;31m:\u001b[0m invalid syntax\n"
     ]
    }
   ],
   "source": [
    "x = \n",
    "\n",
    "if ______:\n",
    "\n",
    "elif:\n",
    "    print('Inside the elif!')\n",
    "else:\n",
    "    print(\"Inside\")"
   ]
  },
  {
   "cell_type": "markdown",
   "id": "36ed8351",
   "metadata": {},
   "source": [
    "4. Replace the blank (`__`) in the block below so the following code prints, \"Inside the if!\""
   ]
  },
  {
   "cell_type": "code",
   "execution_count": 13,
   "id": "70c9b97e",
   "metadata": {},
   "outputs": [
    {
     "ename": "SyntaxError",
     "evalue": "invalid syntax (3281676998.py, line 3)",
     "output_type": "error",
     "traceback": [
      "\u001b[0;36m  File \u001b[0;32m\"/var/folders/lm/cpp55nhx4x9gsyrln06p49980000gn/T/ipykernel_98953/3281676998.py\"\u001b[0;36m, line \u001b[0;32m3\u001b[0m\n\u001b[0;31m    if x __ 6:\u001b[0m\n\u001b[0m          ^\u001b[0m\n\u001b[0;31mSyntaxError\u001b[0m\u001b[0;31m:\u001b[0m invalid syntax\n"
     ]
    }
   ],
   "source": [
    "x = 8\n",
    "\n",
    "if x __ 6:\n",
    "    print(\"Inside the if!\")\n",
    "else:\n",
    "    print(\"Inside the else!\")"
   ]
  },
  {
   "cell_type": "markdown",
   "id": "51534d56",
   "metadata": {},
   "source": [
    "### Lists and loops"
   ]
  },
  {
   "cell_type": "markdown",
   "id": "635957a8",
   "metadata": {},
   "source": [
    "1. Use a for loop to print every value in the `my_list` variable."
   ]
  },
  {
   "cell_type": "code",
   "execution_count": 14,
   "id": "8bfc68e5",
   "metadata": {},
   "outputs": [
    {
     "name": "stdout",
     "output_type": "stream",
     "text": [
      "1\n",
      "2\n",
      "3\n",
      "4\n",
      "5\n"
     ]
    }
   ],
   "source": [
    "my_list = [1, 2, 3, 4, 5]\n",
    "\n",
    "# Solution\n",
    "for val in my_list:\n",
    "    print(val)\n",
    "    "
   ]
  },
  {
   "cell_type": "markdown",
   "id": "815053d1",
   "metadata": {},
   "source": [
    "2. Create a list of strings, and then use a for loop to print its contents. The result should be:\n",
    "\n",
    "```\n",
    "These\n",
    "are\n",
    "the\n",
    "items\n",
    "of\n",
    "the\n",
    "list\n",
    "```"
   ]
  },
  {
   "cell_type": "code",
   "execution_count": null,
   "id": "2b59097a",
   "metadata": {},
   "outputs": [],
   "source": []
  },
  {
   "cell_type": "markdown",
   "id": "6b2b4204",
   "metadata": {},
   "source": [
    "### Functions"
   ]
  },
  {
   "cell_type": "markdown",
   "id": "13a19073",
   "metadata": {},
   "source": [
    "1. Call the function below. It will print, \"You called the function!\""
   ]
  },
  {
   "cell_type": "code",
   "execution_count": null,
   "id": "0fb726e4",
   "metadata": {},
   "outputs": [],
   "source": [
    "def my_function():\n",
    "    print(\"You called the function!\")\n",
    "    \n",
    "# Call the function below:\n"
   ]
  },
  {
   "cell_type": "markdown",
   "id": "bf86bd7f",
   "metadata": {},
   "source": [
    "2. Call the `print_my_name()` function. Pass your name into the function as an argument."
   ]
  },
  {
   "cell_type": "code",
   "execution_count": null,
   "id": "6cccfde0",
   "metadata": {},
   "outputs": [],
   "source": [
    "def print_my_name(name):\n",
    "    print(f\"My name is, {name}\")\n",
    "    \n",
    "# Call the function below:\n"
   ]
  },
  {
   "cell_type": "markdown",
   "id": "e8dc957a",
   "metadata": {},
   "source": [
    "`...`"
   ]
  },
  {
   "cell_type": "code",
   "execution_count": null,
   "id": "f5521d1a",
   "metadata": {},
   "outputs": [],
   "source": []
  },
  {
   "cell_type": "markdown",
   "id": "010503c2",
   "metadata": {},
   "source": []
  },
  {
   "cell_type": "code",
   "execution_count": null,
   "id": "8a0247dd",
   "metadata": {},
   "outputs": [],
   "source": []
  }
 ],
 "metadata": {
  "kernelspec": {
   "display_name": "Python 3 (ipykernel)",
   "language": "python",
   "name": "python3"
  },
  "language_info": {
   "codemirror_mode": {
    "name": "ipython",
    "version": 3
   },
   "file_extension": ".py",
   "mimetype": "text/x-python",
   "name": "python",
   "nbconvert_exporter": "python",
   "pygments_lexer": "ipython3",
   "version": "3.7.8"
  }
 },
 "nbformat": 4,
 "nbformat_minor": 5
}
