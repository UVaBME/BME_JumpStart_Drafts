{
 "cells": [
  {
   "cell_type": "markdown",
   "metadata": {
    "id": "iMFM-q0ZBh4J"
   },
   "source": [
    "# Lesson 1: Variables, Types, and Operators"
   ]
  },
  {
   "cell_type": "markdown",
   "metadata": {
    "id": "CEH3NbX5Bh4L"
   },
   "source": [
    "*This tutorial was generated from a Jupyter notebook.  You can download the notebook [here](l04_more_operators_and_conditionals.ipynb).*"
   ]
  },
  {
   "cell_type": "markdown",
   "metadata": {
    "id": "2MXFecSUBh4L"
   },
   "source": [
    "## Learning Objectives\n",
    "In this lesson, we will learn about **variables**, a critical concept for programming in Python.  We will be able to determine and manipulate the **type** of a variable and gain a thorough understanding of the importance of these types and their differences. Finally, we will use **operators** to work with our variables to achieve a desired output. To facilitate learning, we will make use of the Python native **print** function to visualize outputs from our code."
   ]
  },
  {
   "cell_type": "markdown",
   "metadata": {
    "id": "aKKclucDBh4L"
   },
   "source": [
    "## What is a variable?\n",
    "A **variable** is a Python object that can be defined by the user. All variables have 2 important properties:\n",
    "1. The **type** of the variable\n",
    "2. The **value** of the variable"
   ]
  },
  {
   "cell_type": "markdown",
   "metadata": {
    "id": "qubTyy2bBh4M"
   },
   "source": [
    "### Assigning a Variable\n",
    "Let's start by creating, or **instantiating** a variable. To do so, we use the assignment operator, **\"=\"**, where the left side is the variable and the right side is the value."
   ]
  },
  {
   "cell_type": "code",
   "execution_count": 9,
   "metadata": {
    "id": "rAJmbABBBh4M",
    "outputId": "117aacaa-325a-4a32-de5a-283a02d548aa"
   },
   "outputs": [],
   "source": [
    "my_name = 'John'"
   ]
  },
  {
   "cell_type": "markdown",
   "metadata": {},
   "source": [
    "We just created our first variable! But how do we check to make sure our variable is what we expect?\n",
    "The **print()** function can be used to output the value of variables."
   ]
  },
  {
   "cell_type": "code",
   "execution_count": 10,
   "metadata": {},
   "outputs": [
    {
     "name": "stdout",
     "output_type": "stream",
     "text": [
      "John\n"
     ]
    }
   ],
   "source": [
    "print(my_name)"
   ]
  },
  {
   "cell_type": "markdown",
   "metadata": {},
   "source": [
    "Let's create and view \n",
    "some more variables."
   ]
  },
  {
   "cell_type": "code",
   "execution_count": 23,
   "metadata": {},
   "outputs": [],
   "source": [
    "num1 = 10\n",
    "num2 = 5.2\n",
    "num3 = 2"
   ]
  },
  {
   "cell_type": "code",
   "execution_count": 24,
   "metadata": {},
   "outputs": [
    {
     "name": "stdout",
     "output_type": "stream",
     "text": [
      "10\n"
     ]
    }
   ],
   "source": [
    "print(num1)"
   ]
  },
  {
   "cell_type": "code",
   "execution_count": 25,
   "metadata": {},
   "outputs": [
    {
     "name": "stdout",
     "output_type": "stream",
     "text": [
      "5.2\n"
     ]
    }
   ],
   "source": [
    "print(num2)"
   ]
  },
  {
   "cell_type": "code",
   "execution_count": 26,
   "metadata": {},
   "outputs": [
    {
     "name": "stdout",
     "output_type": "stream",
     "text": [
      "2\n"
     ]
    }
   ],
   "source": [
    "print(num3)"
   ]
  },
  {
   "cell_type": "markdown",
   "metadata": {},
   "source": [
    "The print() function also allows us to print multiple variables in one line!"
   ]
  },
  {
   "cell_type": "code",
   "execution_count": 27,
   "metadata": {},
   "outputs": [
    {
     "name": "stdout",
     "output_type": "stream",
     "text": [
      "10 5.2 2\n"
     ]
    }
   ],
   "source": [
    "print(num1, num2, num3)"
   ]
  },
  {
   "cell_type": "markdown",
   "metadata": {},
   "source": [
    "When variables are created, they are stored in **memory**. For now, just remember that a variable does not exist until it is instantiated, and instantiated variables are stored in memory for reference until they are cleared from memory.\n",
    "\n",
    "Also, variable names cannot contain spaces. Often, **underscore, \"_\"**, is used to separate words in variable names. "
   ]
  },
  {
   "cell_type": "markdown",
   "metadata": {},
   "source": [
    "## Variable Types\n",
    "As stated, all variables have a **type** and a **value**. The type of a variable determines what you can do with it and, as such, is extremely important. We can easily see what the type of a variable is by using the Python native **type()** function."
   ]
  },
  {
   "cell_type": "code",
   "execution_count": 28,
   "metadata": {},
   "outputs": [
    {
     "name": "stdout",
     "output_type": "stream",
     "text": [
      "<class 'str'>\n"
     ]
    }
   ],
   "source": [
    "print(type(my_name))"
   ]
  },
  {
   "cell_type": "code",
   "execution_count": 29,
   "metadata": {},
   "outputs": [
    {
     "name": "stdout",
     "output_type": "stream",
     "text": [
      "<class 'int'>\n"
     ]
    }
   ],
   "source": [
    "print(type(num1))"
   ]
  },
  {
   "cell_type": "code",
   "execution_count": 30,
   "metadata": {},
   "outputs": [
    {
     "name": "stdout",
     "output_type": "stream",
     "text": [
      "<class 'float'>\n"
     ]
    }
   ],
   "source": [
    "print(type(num2))"
   ]
  },
  {
   "cell_type": "code",
   "execution_count": 31,
   "metadata": {},
   "outputs": [
    {
     "name": "stdout",
     "output_type": "stream",
     "text": [
      "<class 'int'>\n"
     ]
    }
   ],
   "source": [
    "print(type(num3))"
   ]
  },
  {
   "cell_type": "markdown",
   "metadata": {},
   "source": [
    "We can see that our defined variables have different types! Let's talk about 3 basic types of variables:\n",
    "- **int**: Integer, or whole number, that is positive or negative and without decimals\n",
    "- **float**: Floating point number that is a decimal or fractional value (NOT an integer)\n",
    "- **str**: Sequence of characters, where each character is uniquely identified by Python (Space is a character!)"
   ]
  },
  {
   "cell_type": "markdown",
   "metadata": {},
   "source": [
    "### More On Strings\n",
    "You may have noticed that we assigned the value **'John'** to the variable **my_name**, but the print() output of my_name is **John**. Strings are created by enclosing characters in quotes. To demonstrate, let's try to instantiate another string variable."
   ]
  },
  {
   "cell_type": "code",
   "execution_count": 32,
   "metadata": {},
   "outputs": [
    {
     "ename": "NameError",
     "evalue": "name 'Billy' is not defined",
     "output_type": "error",
     "traceback": [
      "\u001b[1;31m---------------------------------------------------------------------------\u001b[0m",
      "\u001b[1;31mNameError\u001b[0m                                 Traceback (most recent call last)",
      "Cell \u001b[1;32mIn[32], line 1\u001b[0m\n\u001b[1;32m----> 1\u001b[0m my_new_name \u001b[38;5;241m=\u001b[39m \u001b[43mBilly\u001b[49m\n",
      "\u001b[1;31mNameError\u001b[0m: name 'Billy' is not defined"
     ]
    }
   ],
   "source": [
    "my_new_name = Billy"
   ]
  },
  {
   "cell_type": "markdown",
   "metadata": {},
   "source": [
    "As you can see, we were given an error! Without the quotes, Python interprets **Billy** as a variable, but we have not defined a variable with that name (it is not in the memory!). Let's correctly instantiate our new string."
   ]
  },
  {
   "cell_type": "code",
   "execution_count": 40,
   "metadata": {},
   "outputs": [],
   "source": [
    "my_full_name = 'John Doe'"
   ]
  },
  {
   "cell_type": "code",
   "execution_count": 42,
   "metadata": {},
   "outputs": [
    {
     "name": "stdout",
     "output_type": "stream",
     "text": [
      "John Doe\n"
     ]
    }
   ],
   "source": [
    "print(my_full_name)"
   ]
  },
  {
   "cell_type": "markdown",
   "metadata": {
    "id": "iWivSLT0Bh4N",
    "outputId": "12b82739-92f9-45e4-b82c-41a5e71f7c0d"
   },
   "source": [
    "**Note**: While we will exclusively use **single quotes**, strings can be instantiated using **double quotes (\")** or **triple quotes (''', \"\"\")**. Triple quotes allow for extension of strings over multiple lines which can be useful for keeping track of long strings."
   ]
  },
  {
   "cell_type": "markdown",
   "metadata": {},
   "source": [
    "## Comments\n",
    "As a programmer, it is unlikely you will perfectly remember what every line of your code does. In addition, it is impractical to explain your code to other potential users by just showing them the code. In Python, **comments** are lines of code that are ignored by the interpreter. They are often used to add information to your code that makes it more readable and interpretable. It is great practice to write code that is well-commented. Your future self will thank you!"
   ]
  },
  {
   "cell_type": "markdown",
   "metadata": {},
   "source": [
    "Comments are denoted by the **\"#\"** symbol. In a single line, any text after the \"#\" is part of the comment. This allows for an entire line to be a comment, or a comment to be place beside a line of code to be executed. Here's an example of how comments can be used to add information for understanding:"
   ]
  },
  {
   "cell_type": "code",
   "execution_count": 45,
   "metadata": {},
   "outputs": [],
   "source": [
    "# I am going to print all of the variables that I have instantiated so far."
   ]
  },
  {
   "cell_type": "code",
   "execution_count": 47,
   "metadata": {},
   "outputs": [
    {
     "name": "stdout",
     "output_type": "stream",
     "text": [
      "John\n",
      "John Doe\n",
      "10\n",
      "5.2\n",
      "2\n"
     ]
    }
   ],
   "source": [
    "print(my_name)\n",
    "print(my_full_name) # This variable is my full name!\n",
    "print(num1)\n",
    "print(num2)\n",
    "print(num3)"
   ]
  },
  {
   "cell_type": "markdown",
   "metadata": {},
   "source": [
    "Another effective usage of comments is to comment a line of code you currently do not want to be executed. This is extremely helpful for debugging! Here is an example:"
   ]
  },
  {
   "cell_type": "code",
   "execution_count": 51,
   "metadata": {},
   "outputs": [
    {
     "name": "stdout",
     "output_type": "stream",
     "text": [
      "John Doe\n",
      "10\n",
      "5.2\n",
      "2\n"
     ]
    }
   ],
   "source": [
    "# I do not want to print my first name, only my full name\n",
    "#print(my_name)\n",
    "print(my_full_name) # This variable is my full name!\n",
    "print(num1)\n",
    "print(num2)\n",
    "print(num3)"
   ]
  },
  {
   "cell_type": "markdown",
   "metadata": {},
   "source": [
    "Finally, while not shown here, **triple quotes** can be used to create comments that go over multiple lines. This is useful for noting large amounts important information in your script. "
   ]
  },
  {
   "cell_type": "markdown",
   "metadata": {},
   "source": [
    "## Operators\n",
    "Operators allow you to do things with variables, like add them. They are represented by special symbols, like **+** and **/**. For now, we will focus on Python's arithmetic operators, as denoted below:\n",
    "|Action|Operator|\n",
    "|:-------|:----------:|\n",
    "|Addition | `+`|\n",
    "|Subtraction | `-`|\n",
    "|Multiplication | `*`|\n",
    "|Division | `/`|\n",
    "|Raise to Power | `**`|\n",
    "|Modulo | `%`|\n",
    "|Floor Division | `//`|"
   ]
  }
 ],
 "metadata": {
  "colab": {
   "provenance": []
  },
  "kernelspec": {
   "display_name": "Python 3 (ipykernel)",
   "language": "python",
   "name": "python3"
  },
  "language_info": {
   "codemirror_mode": {
    "name": "ipython",
    "version": 3
   },
   "file_extension": ".py",
   "mimetype": "text/x-python",
   "name": "python",
   "nbconvert_exporter": "python",
   "pygments_lexer": "ipython3",
   "version": "3.10.9"
  }
 },
 "nbformat": 4,
 "nbformat_minor": 1
}
