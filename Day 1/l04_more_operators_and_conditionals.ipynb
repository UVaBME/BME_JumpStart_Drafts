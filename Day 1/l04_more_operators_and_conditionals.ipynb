{
  "cells": [
    {
      "cell_type": "markdown",
      "metadata": {
        "id": "iMFM-q0ZBh4J"
      },
      "source": [
        "# Lesson 4: More operators and conditionals"
      ]
    },
    {
      "cell_type": "markdown",
      "metadata": {
        "id": "CEH3NbX5Bh4L"
      },
      "source": [
        "*This tutorial was generated from a Jupyter notebook.  You can download the notebook [here](l04_more_operators_and_conditionals.ipynb).*"
      ]
    },
    {
      "cell_type": "markdown",
      "metadata": {
        "id": "2MXFecSUBh4L"
      },
      "source": [
        "In this tutorial, we will examine more operators beyond the arithmetic and assignment operators we have already encountered.  We'll look at **relational operators**, **identity operators**, and **logical operators**.  We'll use these operators in **conditional statements**, which help a program decide what to do in certain situations.  We will also start using the Spyder's editor to create `.py` files that we will then run."
      ]
    },
    {
      "cell_type": "markdown",
      "metadata": {
        "id": "aKKclucDBh4L"
      },
      "source": [
        "## Relational operators\n",
        "Suppose we want to compare the values of two numbers.  We may want to know if they are equal for example.  The operator used to test for equality is a `==`, an example of a **relational operator** (also called a **comparison operator**)."
      ]
    },
    {
      "cell_type": "markdown",
      "metadata": {
        "id": "qubTyy2bBh4M"
      },
      "source": [
        "### The equality relational operator\n",
        "Let's test out the `==` to see how it works."
      ]
    },
    {
      "cell_type": "code",
      "execution_count": null,
      "metadata": {
        "id": "rAJmbABBBh4M",
        "outputId": "117aacaa-325a-4a32-de5a-283a02d548aa"
      },
      "outputs": [
        {
          "data": {
            "text/plain": [
              "True"
            ]
          },
          "execution_count": 61,
          "metadata": {},
          "output_type": "execute_result"
        }
      ],
      "source": [
        "5 == 5"
      ]
    },
    {
      "cell_type": "code",
      "execution_count": null,
      "metadata": {
        "id": "iWivSLT0Bh4N",
        "outputId": "12b82739-92f9-45e4-b82c-41a5e71f7c0d"
      },
      "outputs": [
        {
          "data": {
            "text/plain": [
              "False"
            ]
          },
          "execution_count": 62,
          "metadata": {},
          "output_type": "execute_result"
        }
      ],
      "source": [
        "5 == 4"
      ]
    },
    {
      "cell_type": "markdown",
      "metadata": {
        "id": "Q0GnPRtXBh4O"
      },
      "source": [
        "Notice that using the operator gives either `True` or `False`.  These are important keywords in Python that indicate truth.  `True` and `False` have a special type, called `bool`, short for **Boolean**."
      ]
    },
    {
      "cell_type": "code",
      "execution_count": null,
      "metadata": {
        "id": "spLq1TcGBh4O",
        "outputId": "8b6ea46d-cc4a-43c9-b3b3-235b5b6784da"
      },
      "outputs": [
        {
          "data": {
            "text/plain": [
              "bool"
            ]
          },
          "execution_count": 63,
          "metadata": {},
          "output_type": "execute_result"
        }
      ],
      "source": [
        "type(True)"
      ]
    },
    {
      "cell_type": "code",
      "execution_count": null,
      "metadata": {
        "id": "bobZ1SOxBh4O",
        "outputId": "0d51ddc8-9a0d-47ae-eeab-0729c3ef3a17"
      },
      "outputs": [
        {
          "data": {
            "text/plain": [
              "bool"
            ]
          },
          "execution_count": 64,
          "metadata": {},
          "output_type": "execute_result"
        }
      ],
      "source": [
        "type(False)"
      ]
    },
    {
      "cell_type": "markdown",
      "metadata": {
        "id": "2lTmWNwPBh4P"
      },
      "source": [
        "Now, let's try it out with some floats."
      ]
    },
    {
      "cell_type": "code",
      "execution_count": null,
      "metadata": {
        "id": "wFMOTJMsBh4P",
        "outputId": "69faa7d7-2720-438a-a5f3-b14b463ccde1"
      },
      "outputs": [
        {
          "data": {
            "text/plain": [
              "True"
            ]
          },
          "execution_count": 65,
          "metadata": {},
          "output_type": "execute_result"
        }
      ],
      "source": [
        "5.3 == 5.3"
      ]
    },
    {
      "cell_type": "code",
      "execution_count": null,
      "metadata": {
        "id": "l14JLkGoBh4P",
        "outputId": "b716bf5c-80b4-4292-9797-6414779c7803"
      },
      "outputs": [
        {
          "data": {
            "text/plain": [
              "False"
            ]
          },
          "execution_count": 66,
          "metadata": {},
          "output_type": "execute_result"
        }
      ],
      "source": [
        "2.1 + 3.2 == 5.3"
      ]
    },
    {
      "cell_type": "markdown",
      "metadata": {
        "id": "4OIi8R8dBh4P"
      },
      "source": [
        "Yikes!  Python is telling us that `2.1 + 3.2` is not `5.3`.  This is floating point arithmetic coming back to haunt us!  Note that some floating point numbers that can be exactly represented with binary numbers do not have this problem."
      ]
    },
    {
      "cell_type": "code",
      "execution_count": null,
      "metadata": {
        "id": "F2TByqdqBh4P",
        "outputId": "7f606b77-5fa3-4864-8213-930dc7e03cb0"
      },
      "outputs": [
        {
          "data": {
            "text/plain": [
              "True"
            ]
          },
          "execution_count": 67,
          "metadata": {},
          "output_type": "execute_result"
        }
      ],
      "source": [
        "2.2 + 3.2 == 5.4"
      ]
    },
    {
      "cell_type": "markdown",
      "metadata": {
        "id": "yhcXXhVABh4P"
      },
      "source": [
        "This behavior is unpredictable, so here is a rule."
      ]
    },
    {
      "cell_type": "markdown",
      "metadata": {
        "id": "Fs8T1OahBh4P"
      },
      "source": [
        "<div class=\"alert alert-danger\">\n",
        "<p><center>Never use the `==` operator with floats.</center></p>\n",
        "</div>"
      ]
    },
    {
      "cell_type": "markdown",
      "metadata": {
        "id": "bXgz5H6QBh4P"
      },
      "source": [
        "### Other relational operators\n",
        "As you might expect, there are other relational operators.  The relational operators are\n",
        "\n",
        "|English|Python|\n",
        "|:-------|:----------:|\n",
        "|is equal to | `==`|\n",
        "|is not equal to | `!=`|\n",
        "|is greater than | `>`|\n",
        "|is less than | `<`|\n",
        "|is greater than or equal to | `>=`|\n",
        "|is less thanor equal to | `<=`|\n",
        "\n",
        "We can try some of them out!"
      ]
    },
    {
      "cell_type": "code",
      "execution_count": null,
      "metadata": {
        "id": "GnK2mZ5wBh4Q",
        "outputId": "084e4125-88ec-4df8-b6aa-ba99583ba576"
      },
      "outputs": [
        {
          "data": {
            "text/plain": [
              "True"
            ]
          },
          "execution_count": 68,
          "metadata": {},
          "output_type": "execute_result"
        }
      ],
      "source": [
        "4 < 5"
      ]
    },
    {
      "cell_type": "code",
      "execution_count": null,
      "metadata": {
        "id": "y_m45rxZBh4Q",
        "outputId": "8da4e271-7491-48e0-84a9-e67bac418401"
      },
      "outputs": [
        {
          "data": {
            "text/plain": [
              "False"
            ]
          },
          "execution_count": 69,
          "metadata": {},
          "output_type": "execute_result"
        }
      ],
      "source": [
        "5.7 <= 3"
      ]
    },
    {
      "cell_type": "code",
      "execution_count": null,
      "metadata": {
        "id": "ksLrmh1xBh4Q",
        "outputId": "4ddba446-e390-406e-dcd5-a84ba51030fb"
      },
      "outputs": [
        {
          "data": {
            "text/plain": [
              "True"
            ]
          },
          "execution_count": 70,
          "metadata": {},
          "output_type": "execute_result"
        }
      ],
      "source": [
        "'steph curry' > 'lebron james'"
      ]
    },
    {
      "cell_type": "markdown",
      "metadata": {
        "id": "SfM53SuEBh4Q"
      },
      "source": [
        "Whoa.  What happened on that last one?  The Python interpreter clearly thinks Steph Curry is better than LeBron James, but that seems kind of subjective.  To understand what the interpeter is doing, we need to understand how it compares strings."
      ]
    },
    {
      "cell_type": "markdown",
      "metadata": {
        "id": "1HIZhpjNBh4Q"
      },
      "source": [
        "### A brief aside on Unicode\n",
        "In Python, characters are encoded with [Unicode](https://en.wikipedia.org/wiki/Unicode).  This is a standardized library of characters from many languages around the world that contains over 100,000 characters.  Each character has a unique number associated with it.  We can access what number is assigned to a character using Python's built-in `ord()` function."
      ]
    },
    {
      "cell_type": "code",
      "execution_count": null,
      "metadata": {
        "id": "6T6QewacBh4Q",
        "outputId": "516e13a2-98ec-436e-f938-81e8d4c6c4b0"
      },
      "outputs": [
        {
          "data": {
            "text/plain": [
              "97"
            ]
          },
          "execution_count": 71,
          "metadata": {},
          "output_type": "execute_result"
        }
      ],
      "source": [
        "ord('a')"
      ]
    },
    {
      "cell_type": "code",
      "execution_count": null,
      "metadata": {
        "id": "hfSW3QvHBh4R",
        "outputId": "9fcaa5e8-ea2d-465d-f302-10f26505e945"
      },
      "outputs": [
        {
          "data": {
            "text/plain": [
              "955"
            ]
          },
          "execution_count": 72,
          "metadata": {},
          "output_type": "execute_result"
        }
      ],
      "source": [
        "ord('λ')"
      ]
    },
    {
      "cell_type": "markdown",
      "metadata": {
        "id": "EmsqK5s9Bh4R"
      },
      "source": [
        "The relational operators on characters compare the values that the `ord` function returns.  So, using a relational operator on `'a'` and `'b'` means you are comparing `ord('a')` and `ord('b')`.  When comparing strings, the intepreter first compares the first character of each string.  If they are equal, it compares the second character, and so on.  So, the reason that `'steph curry' > 'lebron james'` gives a value of `True` is because `ord('s') > ord('l')`.\n",
        "\n",
        "Note that a result of this sceme is that testing for equality of strings means that **all** characters must be equal.  This is the most common use case for relational operators with strings."
      ]
    },
    {
      "cell_type": "code",
      "execution_count": null,
      "metadata": {
        "id": "all-KjSGBh4R",
        "outputId": "a9dd120a-516e-45a9-dda2-12960218bd52"
      },
      "outputs": [
        {
          "data": {
            "text/plain": [
              "False"
            ]
          },
          "execution_count": 4,
          "metadata": {},
          "output_type": "execute_result"
        }
      ],
      "source": [
        "'lebron' == 'lebron james'"
      ]
    },
    {
      "cell_type": "code",
      "execution_count": null,
      "metadata": {
        "id": "4h8u_4TvBh4R",
        "outputId": "eb0857d3-e958-4afc-a023-ff0637c5f20c"
      },
      "outputs": [
        {
          "data": {
            "text/plain": [
              "False"
            ]
          },
          "execution_count": 74,
          "metadata": {},
          "output_type": "execute_result"
        }
      ],
      "source": [
        "'lebron' == 'LeBron'"
      ]
    },
    {
      "cell_type": "code",
      "execution_count": null,
      "metadata": {
        "id": "4o0wpV09Bh4R",
        "outputId": "05c55a48-8d26-4779-83a8-1e6bffb4d6ce"
      },
      "outputs": [
        {
          "data": {
            "text/plain": [
              "True"
            ]
          },
          "execution_count": 75,
          "metadata": {},
          "output_type": "execute_result"
        }
      ],
      "source": [
        "'LeBron James' == 'LeBron James'"
      ]
    },
    {
      "cell_type": "code",
      "execution_count": null,
      "metadata": {
        "id": "YxACyB7LBh4R",
        "outputId": "7ee998b4-1eab-45cd-eb69-22b2af496c39"
      },
      "outputs": [
        {
          "data": {
            "text/plain": [
              "False"
            ]
          },
          "execution_count": 76,
          "metadata": {},
          "output_type": "execute_result"
        }
      ],
      "source": [
        "'AGTCACAGTA' == 'AGTCACAGCA'"
      ]
    },
    {
      "cell_type": "markdown",
      "metadata": {
        "id": "YakqvsDWBh4R"
      },
      "source": [
        "### Chaining relational operators\n",
        "Python allow chaining of relational operators."
      ]
    },
    {
      "cell_type": "code",
      "execution_count": null,
      "metadata": {
        "id": "cp7yKy7VBh4R",
        "outputId": "1ba452b6-d1f8-4bc0-902b-d15d666d3e9e"
      },
      "outputs": [
        {
          "data": {
            "text/plain": [
              "True"
            ]
          },
          "execution_count": 77,
          "metadata": {},
          "output_type": "execute_result"
        }
      ],
      "source": [
        "4 < 6 < 6.1 < 9.3"
      ]
    },
    {
      "cell_type": "code",
      "execution_count": null,
      "metadata": {
        "id": "iexWN5xiBh4S",
        "outputId": "2229f22b-be5e-48c5-f957-ecc08e289d8e"
      },
      "outputs": [
        {
          "data": {
            "text/plain": [
              "False"
            ]
          },
          "execution_count": 78,
          "metadata": {},
          "output_type": "execute_result"
        }
      ],
      "source": [
        "4 < 6.1 < 6 < 9.3"
      ]
    },
    {
      "cell_type": "markdown",
      "metadata": {
        "id": "3qV1s_vgBh4S"
      },
      "source": [
        "This is convenient do to.  However, it is important not to do the following, even though it is legal."
      ]
    },
    {
      "cell_type": "code",
      "execution_count": null,
      "metadata": {
        "id": "vZYDovXMBh4S",
        "outputId": "5af457f2-bc56-4964-affb-4e60d8bd135c"
      },
      "outputs": [
        {
          "data": {
            "text/plain": [
              "True"
            ]
          },
          "execution_count": 79,
          "metadata": {},
          "output_type": "execute_result"
        }
      ],
      "source": [
        "4 < 6.1 > 5"
      ]
    },
    {
      "cell_type": "markdown",
      "metadata": {
        "id": "EnR_q73WBh4S"
      },
      "source": [
        "In other words, do not mix the direction of the relational operators.  You could run into trouble because, in this case, `5` and `4` are never compared.  An expression with different relations among all three numbers also returns `True`."
      ]
    },
    {
      "cell_type": "code",
      "execution_count": null,
      "metadata": {
        "id": "tfILlBsUBh4S",
        "outputId": "3ac05e68-d7d5-4a55-80c6-907d3b0cb7ac"
      },
      "outputs": [
        {
          "data": {
            "text/plain": [
              "True"
            ]
          },
          "execution_count": 80,
          "metadata": {},
          "output_type": "execute_result"
        }
      ],
      "source": [
        "4 < 6.1 > 3"
      ]
    },
    {
      "cell_type": "markdown",
      "metadata": {
        "id": "D_nPHdZYBh4S"
      },
      "source": [
        "So, I issue a warning."
      ]
    },
    {
      "cell_type": "markdown",
      "metadata": {
        "id": "zsiiEd1HBh4S"
      },
      "source": [
        "<div class=\"alert alert-danger\">\n",
        "<p><center>Do not mix the directions of chained relational operators.</center></p>\n",
        "</div>"
      ]
    },
    {
      "cell_type": "markdown",
      "metadata": {
        "id": "5yG7Mm5nBh4Z"
      },
      "source": [
        "## Identity operators\n",
        "Identity operators check to see if two variables occupy the same space in memory; i.e., they are the same object (we'll learn more about objects later).  This is different that the equality relational operator, `==`, which checks to see if two variables have the same **value**.  The two identity operators are in the table below.\n",
        "\n",
        "|English|Python|\n",
        "|:-------|:----------:|\n",
        "|is the same object | `is`|\n",
        "|is not the same object | `is not`|\n",
        "\n",
        "That's right.  The operators are pretty much the same as English!  Let's see these operators in action and get at the difference between `==` and `is`."
      ]
    },
    {
      "cell_type": "code",
      "execution_count": null,
      "metadata": {
        "id": "AkZvmIqoBh4Z",
        "outputId": "c793ae45-dbd3-4e0d-be5f-3fbbd581143b"
      },
      "outputs": [
        {
          "data": {
            "text/plain": [
              "(True, False)"
            ]
          },
          "execution_count": 1,
          "metadata": {},
          "output_type": "execute_result"
        }
      ],
      "source": [
        "str_1 = 'Hello, world.'\n",
        "str_2 = 'Hello, world.'\n",
        "\n",
        "str_1 == str_2, str_1 is str_2"
      ]
    },
    {
      "cell_type": "markdown",
      "metadata": {
        "id": "I1wSV9sUBh4Z"
      },
      "source": [
        "So, even though `str_1` and `str_2` have the same *value*, they do not occupy the same place in memory.  Here are a few more examples."
      ]
    },
    {
      "cell_type": "code",
      "execution_count": null,
      "metadata": {
        "id": "bPp3dIeQBh4a",
        "outputId": "86a5a774-0374-4e26-c922-e872d48bf069"
      },
      "outputs": [
        {
          "data": {
            "text/plain": [
              "(True, True)"
            ]
          },
          "execution_count": 2,
          "metadata": {},
          "output_type": "execute_result"
        }
      ],
      "source": [
        "str_1 = 'Hello, world.'\n",
        "str_2 = str_1\n",
        "\n",
        "str_1 == str_2, str_1 is str_2"
      ]
    },
    {
      "cell_type": "code",
      "execution_count": null,
      "metadata": {
        "id": "gGLxtHfaBh4a",
        "outputId": "de5ddd03-7857-47b0-a6f4-8392b948f749"
      },
      "outputs": [
        {
          "data": {
            "text/plain": [
              "(True, False)"
            ]
          },
          "execution_count": 3,
          "metadata": {},
          "output_type": "execute_result"
        }
      ],
      "source": [
        "a = 5.6\n",
        "b = 5.6\n",
        "\n",
        "a == b, a is b"
      ]
    },
    {
      "cell_type": "code",
      "execution_count": null,
      "metadata": {
        "id": "Xvq1RtS4Bh4a",
        "outputId": "ca080d3d-3ed8-4f54-f847-aede6e6dd6fe"
      },
      "outputs": [
        {
          "data": {
            "text/plain": [
              "(True, True)"
            ]
          },
          "execution_count": 4,
          "metadata": {},
          "output_type": "execute_result"
        }
      ],
      "source": [
        "a = 5.6\n",
        "b = a\n",
        "\n",
        "a == b, a is b"
      ]
    },
    {
      "cell_type": "code",
      "execution_count": null,
      "metadata": {
        "id": "mW5Q3ynABh4a",
        "outputId": "83041f98-a6b7-4269-a8c4-8fe4e89daad2"
      },
      "outputs": [
        {
          "data": {
            "text/plain": [
              "(False, False)"
            ]
          },
          "execution_count": 5,
          "metadata": {},
          "output_type": "execute_result"
        }
      ],
      "source": [
        "a = 5.6\n",
        "b = a\n",
        "a = 6.1\n",
        "\n",
        "a == b, a is b"
      ]
    },
    {
      "cell_type": "markdown",
      "metadata": {
        "id": "r0T8rIeiBh4a"
      },
      "source": [
        "In the last two examples, we see that assigning `b = a`, where `a` is a `float` in this case, means that `a` and `b` occupy the same memory.  However, reassigning the value of `a` resulted in the interpreter placing `a` in a new space in memory.  We can double check the values."
      ]
    },
    {
      "cell_type": "code",
      "execution_count": null,
      "metadata": {
        "id": "KM3dZdLhBh4a",
        "outputId": "9ecc5e14-e5e4-4e40-8c06-d64be81ea4a4"
      },
      "outputs": [
        {
          "data": {
            "text/plain": [
              "(6.1, 5.6)"
            ]
          },
          "execution_count": 84,
          "metadata": {},
          "output_type": "execute_result"
        }
      ],
      "source": [
        "a, b"
      ]
    },
    {
      "cell_type": "markdown",
      "metadata": {
        "id": "n_5be1JLBh4a"
      },
      "source": [
        "This automatic reassigning happens with **immutable** variables.  This means that once the variables are created, their values cannot be changed.  If we do change the value, as we did by setting `a = 6.1`, the variable gets a new place in memory.  All variables we've encountered so far, `int`s, `float`s, and `str`s, are immutable.  We will see encounter mutable data types in future lessons."
      ]
    },
    {
      "cell_type": "markdown",
      "metadata": {
        "id": "A9Yyv9Z8Bh4b"
      },
      "source": [
        "## Logical operators"
      ]
    },
    {
      "cell_type": "markdown",
      "metadata": {
        "id": "vqiycGCRBh4b"
      },
      "source": [
        "**Logical operators** can be used to connect relational and identity operators.  Python has three logical operators.\n",
        "\n",
        "|Logic|Python|\n",
        "|:-------|:----------:|\n",
        "|AND | `and`|\n",
        "|OR | `or`|\n",
        "|NOT | `not`|\n",
        "\n",
        "The `and` operator means that if both operands are `True`, return `True`.  The `or` operator gives `True` if *either* of the operands are `True`.  Finally, the `not` operator negates the logical result.\n",
        "\n",
        "That might be as clear as mud to you.  It is easier to learn this, as usual, by example."
      ]
    },
    {
      "cell_type": "code",
      "execution_count": null,
      "metadata": {
        "id": "RuW-zbgsBh4b",
        "outputId": "71cd8199-be18-48d6-bef5-730b8f6a1726"
      },
      "outputs": [
        {
          "data": {
            "text/plain": [
              "True"
            ]
          },
          "execution_count": 85,
          "metadata": {},
          "output_type": "execute_result"
        }
      ],
      "source": [
        "True and True"
      ]
    },
    {
      "cell_type": "code",
      "execution_count": null,
      "metadata": {
        "id": "YwgRUvzTBh4b",
        "outputId": "24d58f08-2ec3-4771-f6da-197121ae6b68"
      },
      "outputs": [
        {
          "data": {
            "text/plain": [
              "False"
            ]
          },
          "execution_count": 86,
          "metadata": {},
          "output_type": "execute_result"
        }
      ],
      "source": [
        "True and False"
      ]
    },
    {
      "cell_type": "code",
      "execution_count": null,
      "metadata": {
        "id": "u2IdUwtwBh4b",
        "outputId": "e8534be4-d1f3-4106-fa80-8a662f0ef3b7"
      },
      "outputs": [
        {
          "data": {
            "text/plain": [
              "True"
            ]
          },
          "execution_count": 87,
          "metadata": {},
          "output_type": "execute_result"
        }
      ],
      "source": [
        "True or False"
      ]
    },
    {
      "cell_type": "code",
      "execution_count": null,
      "metadata": {
        "id": "hD0njcx2Bh4b",
        "outputId": "01738424-a275-4467-eb13-0c92966386a7"
      },
      "outputs": [
        {
          "data": {
            "text/plain": [
              "True"
            ]
          },
          "execution_count": 5,
          "metadata": {},
          "output_type": "execute_result"
        }
      ],
      "source": [
        "True or True"
      ]
    },
    {
      "cell_type": "code",
      "execution_count": null,
      "metadata": {
        "id": "iWSZmuV6Bh4b",
        "outputId": "be8eb553-dd4c-48df-dd7a-94b0c5374d80"
      },
      "outputs": [
        {
          "data": {
            "text/plain": [
              "True"
            ]
          },
          "execution_count": 88,
          "metadata": {},
          "output_type": "execute_result"
        }
      ],
      "source": [
        "not False and True"
      ]
    },
    {
      "cell_type": "code",
      "execution_count": null,
      "metadata": {
        "id": "cYxIIMBsBh4c",
        "outputId": "ff138d98-ec59-463a-c3be-4ceb5c5c8e69"
      },
      "outputs": [
        {
          "data": {
            "text/plain": [
              "True"
            ]
          },
          "execution_count": 89,
          "metadata": {},
          "output_type": "execute_result"
        }
      ],
      "source": [
        "not(False and True)"
      ]
    },
    {
      "cell_type": "code",
      "execution_count": null,
      "metadata": {
        "id": "jUbLm9ZVBh4c",
        "outputId": "af75b97f-6833-48d7-94d7-2697fc996427"
      },
      "outputs": [
        {
          "data": {
            "text/plain": [
              "True"
            ]
          },
          "execution_count": 90,
          "metadata": {},
          "output_type": "execute_result"
        }
      ],
      "source": [
        "not False or True"
      ]
    },
    {
      "cell_type": "code",
      "execution_count": null,
      "metadata": {
        "id": "iOGt5nNsBh4c",
        "outputId": "1200292c-bed7-4aef-90e1-c4923190dff6"
      },
      "outputs": [
        {
          "data": {
            "text/plain": [
              "False"
            ]
          },
          "execution_count": 91,
          "metadata": {},
          "output_type": "execute_result"
        }
      ],
      "source": [
        "not (False or True)"
      ]
    },
    {
      "cell_type": "code",
      "execution_count": null,
      "metadata": {
        "id": "zKG7WI_FBh4c",
        "outputId": "2d8d6639-7f01-4bbe-ebce-7b7285e00ccd"
      },
      "outputs": [
        {
          "data": {
            "text/plain": [
              "True"
            ]
          },
          "execution_count": 92,
          "metadata": {},
          "output_type": "execute_result"
        }
      ],
      "source": [
        "7 == 7 or 7.6 == 9.1"
      ]
    },
    {
      "cell_type": "code",
      "execution_count": null,
      "metadata": {
        "id": "57i01LswBh4c",
        "outputId": "6755647e-b700-4610-a73d-70957dbffdc1"
      },
      "outputs": [
        {
          "data": {
            "text/plain": [
              "False"
            ]
          },
          "execution_count": 93,
          "metadata": {},
          "output_type": "execute_result"
        }
      ],
      "source": [
        "7 == 7 and 7.6 == 9.1"
      ]
    },
    {
      "cell_type": "markdown",
      "metadata": {
        "id": "xddIMQRIBh4c"
      },
      "source": [
        "I think these example will help you get the hang of it.  Note that it is important to specify the ordering of your operations, particularly when using the `not` operator.\n",
        "\n",
        "Note also that\n",
        "\n",
        "    a < b < c\n",
        "    \n",
        "is equivalent to\n",
        "\n",
        "    (a < b) and (b < c)\n",
        "\n",
        "With these new type of operators in hand, we can construct a more complete table of operator precedence.\n",
        "\n",
        "|precendence|operators|\n",
        "|:-------|:----------:|\n",
        "|1 | `**`|\n",
        "|2 | `*`, `/`, `//`, `%`|\n",
        "|3 | `+`, `-`|\n",
        "|4 | `<`, `>`, `<=`, `>=`|\n",
        "|5 | `==`, `!=`|\n",
        "|6 | `=`, `+=`, `-=`, `*=`, `/=`, `**=`, `%=`, `//=`|\n",
        "|7 | `is`, `is not`|\n",
        "|8 | `and`, `or`, `not`|"
      ]
    },
    {
      "cell_type": "markdown",
      "metadata": {
        "id": "aC5vmr5pBh4c"
      },
      "source": [
        "## Operators we left out\n",
        "We have left out a few operators in Python.  Two that we left out are the **membership operators**, `in` and `not in`, which we will visit in a forthcoming lesson.  The others we left out are **bitwise operators** and operators on **sets**, which we will not be covering in the bootcamp."
      ]
    },
    {
      "cell_type": "markdown",
      "metadata": {
        "id": "7gFTyKYoBh4c"
      },
      "source": [
        "## The numerical values of `True` and `False`\n",
        "As we move to conditionals, it is important to take a moment to evaluate the numerical values of the keywords `True` and `False`.  They have numerical values of `1` and `0`, respectively."
      ]
    },
    {
      "cell_type": "code",
      "execution_count": null,
      "metadata": {
        "id": "FGYe-eCzBh4d",
        "outputId": "04ba12ad-26e3-4489-a3c0-0ab7d7952c3e"
      },
      "outputs": [
        {
          "data": {
            "text/plain": [
              "True"
            ]
          },
          "execution_count": 7,
          "metadata": {},
          "output_type": "execute_result"
        }
      ],
      "source": [
        "True == 1"
      ]
    },
    {
      "cell_type": "code",
      "execution_count": null,
      "metadata": {
        "id": "4Cx3KKl_Bh4d",
        "outputId": "a8bb1cc3-6562-4b29-d9f6-9ef20838f7c7"
      },
      "outputs": [
        {
          "data": {
            "text/plain": [
              "True"
            ]
          },
          "execution_count": 10,
          "metadata": {},
          "output_type": "execute_result"
        }
      ],
      "source": [
        "False == 0"
      ]
    },
    {
      "cell_type": "markdown",
      "metadata": {
        "id": "8UO9CbiRBh4d"
      },
      "source": [
        "You can do arithmetic on `True` and `False`, but you will get implicit type conversion."
      ]
    },
    {
      "cell_type": "code",
      "execution_count": null,
      "metadata": {
        "id": "JdCbx7_yBh4d",
        "outputId": "a105a209-10ed-47fa-c856-e4435f18ab06"
      },
      "outputs": [
        {
          "data": {
            "text/plain": [
              "1"
            ]
          },
          "execution_count": 102,
          "metadata": {},
          "output_type": "execute_result"
        }
      ],
      "source": [
        "True + False"
      ]
    },
    {
      "cell_type": "code",
      "execution_count": null,
      "metadata": {
        "id": "nDxiEAukBh4d",
        "outputId": "b1c80a4e-160a-4676-b3a9-9b774f2778aa"
      },
      "outputs": [
        {
          "data": {
            "text/plain": [
              "int"
            ]
          },
          "execution_count": 103,
          "metadata": {},
          "output_type": "execute_result"
        }
      ],
      "source": [
        "type(True + False)"
      ]
    },
    {
      "cell_type": "markdown",
      "metadata": {
        "id": "BBntcx4jBh4d"
      },
      "source": [
        "## `.py` files"
      ]
    },
    {
      "cell_type": "markdown",
      "metadata": {
        "id": "hYH1ougwBh4d"
      },
      "source": [
        "We now move out of one-liners that we can just enter at a Python or IPython prompt and evaluate.  We will be preparing multi-line sets of instructions and then running them.  We store the code in Python **source files**.  These are standard text files with a `.py` suffix.  You can create them using Spyder's editor.  To run the contents of the file (after saving it), you can click the green arrow on Spyder's toolbar.  If I have a file that I saved as\n",
        "\n",
        "    /Users/Justin/bootcamp.py\n",
        "\n",
        "clicking the green arrow pastes\n",
        "\n",
        "    runfile('/Users/Justin/Desktop/test.py', wdir='/Users/Justin/Desktop')\n",
        "\n",
        "into the Spyder Python or IPython console.  The `runfile()` function is a built-in function that execute the contents of a `.py` file in interactive mode.\n",
        "\n",
        "Unless you are using Python as a fancy desktop calculator, you will invariably be writing `.py` files.\n",
        "\n",
        "For our first `.py` file, we will write a simple **conditional**.  We will then run our `.py` file in the Spyder Python or IPython console.  We will be learning coding in this way for the rest of the bootcamp, as our expressions become more and more sophisticated."
      ]
    },
    {
      "cell_type": "markdown",
      "metadata": {
        "id": "K6ZZ_Q8KBh4d"
      },
      "source": [
        "## Conditionals\n",
        "**Conditionals** are used to tell your computer to do a set of instructions depending on whether or not a Boolean is `True`.  In other words, we are telling the computer:\n",
        "\n",
        "    if something is true:\n",
        "        do task a\n",
        "    otherwise:\n",
        "        do task b\n",
        "\n",
        "In fact, the syntax in Python is almost exactly the same.  As an example, let's ask whether or not a codon is the canonical start codon (`AUG`)."
      ]
    },
    {
      "cell_type": "code",
      "execution_count": null,
      "metadata": {
        "id": "3yiSG-NzBh4e",
        "outputId": "48e7ce56-e1fb-4eaa-db19-c50fc7e865f6"
      },
      "outputs": [
        {
          "name": "stdout",
          "output_type": "stream",
          "text": [
            "This codon is the start codon.\n"
          ]
        }
      ],
      "source": [
        "codon = 'AUG'\n",
        "\n",
        "if codon == 'AUG':\n",
        "    print('This codon is the start codon.')"
      ]
    },
    {
      "cell_type": "markdown",
      "metadata": {
        "id": "E7wBbmrHBh4e"
      },
      "source": [
        "The syntax of the `if` statement is apparent in the above example.  The Boolean expression, `codon == 'AUG'`, is called the **condition**.  If it is `True`, the indented statement below it is executed.  This brings up a very important aspect of Python syntax."
      ]
    },
    {
      "cell_type": "markdown",
      "metadata": {
        "id": "IJ88SnBpBh4e"
      },
      "source": [
        "<div class=\"alert alert-info\">\n",
        "<center>Indentation matters.</center>\n",
        "</div>"
      ]
    },
    {
      "cell_type": "markdown",
      "metadata": {
        "id": "YSYKiZvmBh4e"
      },
      "source": [
        "Any lines with the same level of indentation will be evaluated together."
      ]
    },
    {
      "cell_type": "code",
      "execution_count": null,
      "metadata": {
        "id": "zmdlf9ZHBh4e",
        "outputId": "50694d0c-84d6-4c72-c83a-495b50dc82d5"
      },
      "outputs": [
        {
          "name": "stdout",
          "output_type": "stream",
          "text": [
            "This codon is the start codon.\n",
            "Same level of intentation, so still printed!\n"
          ]
        }
      ],
      "source": [
        "codon = 'AUG'\n",
        "\n",
        "if codon == 'AUG':\n",
        "    print('This codon is the start codon.')\n",
        "    print('Same level of intentation, so still printed!')"
      ]
    },
    {
      "cell_type": "markdown",
      "metadata": {
        "id": "4p0KV0kMBh4e"
      },
      "source": [
        "What happens if our codon is not the start codon?"
      ]
    },
    {
      "cell_type": "code",
      "execution_count": null,
      "metadata": {
        "collapsed": true,
        "id": "dpM7XqAzBh4e"
      },
      "outputs": [],
      "source": [
        "codon = 'AGG'\n",
        "\n",
        "if codon == 'AUG':\n",
        "    print('This codon is the start codon.')"
      ]
    },
    {
      "cell_type": "markdown",
      "metadata": {
        "id": "JtWpOIYYBh4e"
      },
      "source": [
        "Nothing is printed.  This is because we did not tell Python what to do if the Boolean expression `codon == 'AUG'` evaluated `False`.  We can add that with an **`else` clause** in the conditional."
      ]
    },
    {
      "cell_type": "code",
      "execution_count": null,
      "metadata": {
        "id": "2lDzYxHvBh4f",
        "outputId": "e59cdd1a-2e08-4f38-be94-88d6419edae8"
      },
      "outputs": [
        {
          "name": "stdout",
          "output_type": "stream",
          "text": [
            "This codon is not the start codon.\n"
          ]
        }
      ],
      "source": [
        "codon = 'AGG'\n",
        "\n",
        "if codon == 'AUG':\n",
        "    print('This codon is the start codon.')\n",
        "else:\n",
        "    print('This codon is not the start codon.')"
      ]
    },
    {
      "cell_type": "markdown",
      "metadata": {
        "id": "QVkICq-UBh4f"
      },
      "source": [
        "Great!  Now, we have a construction that can choose which action to take depending on a value.  So, if we're zooming along an RNA sequence, we could pick out the start codon and infer where translation would start.  Now, what if we want to know if we hit a canonical stop codon (`UAA`, `UAG`, or `UGA`)?  We can nest the conditionals!"
      ]
    },
    {
      "cell_type": "code",
      "execution_count": null,
      "metadata": {
        "id": "z0KcqQu1Bh4f",
        "outputId": "74c3af6f-bafe-4a02-e4aa-cf033cfb6584"
      },
      "outputs": [
        {
          "name": "stdout",
          "output_type": "stream",
          "text": [
            "This codon is a stop codon.\n"
          ]
        }
      ],
      "source": [
        "codon = 'UAG'\n",
        "\n",
        "if codon == 'AUG':\n",
        "    print('This codon is the start codon.')\n",
        "else:\n",
        "    if codon == 'UAA' or codon == 'UAG' or codon == 'UGA':\n",
        "        print('This codon is a stop codon.')\n",
        "    else:\n",
        "        print('This codon is neither a start nor stop codon.')"
      ]
    },
    {
      "cell_type": "markdown",
      "metadata": {
        "id": "EDHFsr0oBh4f"
      },
      "source": [
        "Notice that the indentation defines which clause the statement belongs to.  E.g., the second `if` statement is executed as part of the first `else` clause.\n",
        "\n",
        "While this nesting is very nice, we can be more concise by using an `elif` clause."
      ]
    },
    {
      "cell_type": "code",
      "execution_count": null,
      "metadata": {
        "id": "ErWTAyo_Bh4f",
        "outputId": "41d9ae10-cfaa-46da-cb4c-ad781508b8e1"
      },
      "outputs": [
        {
          "name": "stdout",
          "output_type": "stream",
          "text": [
            "This codon is neither a start nor stop codon.\n"
          ]
        }
      ],
      "source": [
        "codon = 'UGG'\n",
        "\n",
        "if codon == 'AUG':\n",
        "    print('This codon is the start codon.')\n",
        "elif codon == 'UAA' or codon == 'UAG' or codon == 'UGA':\n",
        "    print('This codon is a stop codon.')\n",
        "else:\n",
        "    print('This codon is neither a start nor stop codon.')"
      ]
    }
  ],
  "metadata": {
    "kernelspec": {
      "display_name": "Python 3",
      "language": "python",
      "name": "python3"
    },
    "language_info": {
      "codemirror_mode": {
        "name": "ipython",
        "version": 3
      },
      "file_extension": ".py",
      "mimetype": "text/x-python",
      "name": "python",
      "nbconvert_exporter": "python",
      "pygments_lexer": "ipython3",
      "version": "3.3.5"
    },
    "colab": {
      "provenance": []
    }
  },
  "nbformat": 4,
  "nbformat_minor": 0
}