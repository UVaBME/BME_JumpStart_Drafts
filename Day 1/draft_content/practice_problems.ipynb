{
 "cells": [
  {
   "cell_type": "markdown",
   "id": "cf3ad44c",
   "metadata": {},
   "source": [
    "# Practice problems\n",
    "\n",
    "Complete the questions below.\n",
    "\n",
    "* [Variables and Arithmetic Operators](#variables)\n",
    "* [Boolean data and Conditionals](#boolean)\n",
    "* [Lists, loops, and NumPy arrays](#lists)\n",
    "* [Functions](#functions)\n",
    "* [Challenge questions](#challenge-questions)"
   ]
  },
  {
   "cell_type": "markdown",
   "id": "9fcb7872",
   "metadata": {},
   "source": [
    "### Variables and Arithmetic Operators <a class=\"anchor\" id=\"variables\"></a>"
   ]
  },
  {
   "cell_type": "markdown",
   "id": "e20e8d8f",
   "metadata": {},
   "source": [
    "**1. Set the variable `my_name` to your name and then print it.**"
   ]
  },
  {
   "cell_type": "code",
   "execution_count": 2,
   "id": "685b2e90",
   "metadata": {},
   "outputs": [
    {
     "ename": "SyntaxError",
     "evalue": "invalid syntax (2586941877.py, line 1)",
     "output_type": "error",
     "traceback": [
      "\u001b[0;36m  File \u001b[0;32m\"/var/folders/lm/cpp55nhx4x9gsyrln06p49980000gn/T/ipykernel_5240/2586941877.py\"\u001b[0;36m, line \u001b[0;32m1\u001b[0m\n\u001b[0;31m    my_name =\u001b[0m\n\u001b[0m              ^\u001b[0m\n\u001b[0;31mSyntaxError\u001b[0m\u001b[0;31m:\u001b[0m invalid syntax\n"
     ]
    }
   ],
   "source": [
    "my_name = \n",
    "\n",
    "print()"
   ]
  },
  {
   "cell_type": "markdown",
   "id": "f74e9b0b",
   "metadata": {},
   "source": [
    "**2. Now, use string interpolation to add your name to a string that says, \"My name is YOURNAME\" – here, YOURNAME should be replaced with the value saved to `my_name`.**"
   ]
  },
  {
   "cell_type": "code",
   "execution_count": 5,
   "id": "286a389e",
   "metadata": {},
   "outputs": [
    {
     "name": "stdout",
     "output_type": "stream",
     "text": [
      "\n"
     ]
    }
   ],
   "source": [
    "my_name_string = \n",
    "\n",
    "print(f\"My name is {}\")"
   ]
  },
  {
   "cell_type": "markdown",
   "id": "cdbc95e8",
   "metadata": {},
   "source": [
    "**4. Multiply `x` and `y`, save them to a variable called `z` and print the result. The results should be 250.**"
   ]
  },
  {
   "cell_type": "code",
   "execution_count": 3,
   "id": "89ce4e04",
   "metadata": {},
   "outputs": [
    {
     "name": "stdout",
     "output_type": "stream",
     "text": [
      "250\n"
     ]
    }
   ],
   "source": [
    "x = 10\n",
    "y = 25\n",
    "\n"
   ]
  },
  {
   "cell_type": "markdown",
   "id": "5b3783cc",
   "metadata": {},
   "source": [
    "**5. Use the variables `x`, `y`, and `z` (set below) and mathematical operators (`+`, `-`, `*`, and `/`) that results in the value `10`. Set this to the `result` variable and then print it.**"
   ]
  },
  {
   "cell_type": "code",
   "execution_count": 8,
   "id": "241d3201",
   "metadata": {},
   "outputs": [
    {
     "name": "stdout",
     "output_type": "stream",
     "text": [
      "10\n"
     ]
    }
   ],
   "source": [
    "x = 4\n",
    "y = 5\n",
    "z = 11\n",
    "\n",
    "result = "
   ]
  },
  {
   "cell_type": "markdown",
   "id": "2754c580",
   "metadata": {},
   "source": [
    "**6. Adjust the code below so it prints 15**"
   ]
  },
  {
   "cell_type": "code",
   "execution_count": 3,
   "id": "edf99158",
   "metadata": {},
   "outputs": [
    {
     "name": "stdout",
     "output_type": "stream",
     "text": [
      "-5\n"
     ]
    }
   ],
   "source": [
    "x = 5\n",
    "y = 10\n",
    "\n",
    "z = 5 - 10\n",
    "\n",
    "print(z)"
   ]
  },
  {
   "cell_type": "markdown",
   "id": "e29e3e0d",
   "metadata": {},
   "source": [
    "**7. Fix the code below so it prints, \"I just learned Python\"**"
   ]
  },
  {
   "cell_type": "code",
   "execution_count": 5,
   "id": "06207582",
   "metadata": {},
   "outputs": [
    {
     "name": "stdout",
     "output_type": "stream",
     "text": [
      "\n"
     ]
    }
   ],
   "source": [
    "my_variable = \"\"\n",
    "\n",
    "print()"
   ]
  },
  {
   "cell_type": "markdown",
   "id": "ddc75c0d",
   "metadata": {},
   "source": [
    "**8. Use `x`, `y`, and `z` and arithmetic operators to set `result` to 20. Do not change any of the variables values.**"
   ]
  },
  {
   "cell_type": "code",
   "execution_count": null,
   "id": "ea728c90",
   "metadata": {},
   "outputs": [],
   "source": [
    "x = 4\n",
    "y = 22\n",
    "z = 6\n",
    "\n",
    "result = \n",
    "\n",
    "print(result)"
   ]
  },
  {
   "cell_type": "markdown",
   "id": "a854fc40",
   "metadata": {},
   "source": [
    "**9. Change the `__` to an arithmetic operator so the following code prints `2`**"
   ]
  },
  {
   "cell_type": "code",
   "execution_count": 6,
   "id": "3566db7f",
   "metadata": {},
   "outputs": [
    {
     "ename": "SyntaxError",
     "evalue": "invalid syntax (163861202.py, line 1)",
     "output_type": "error",
     "traceback": [
      "\u001b[0;36m  File \u001b[0;32m\"/var/folders/lm/cpp55nhx4x9gsyrln06p49980000gn/T/ipykernel_5240/163861202.py\"\u001b[0;36m, line \u001b[0;32m1\u001b[0m\n\u001b[0;31m    x = 5 __ 2\u001b[0m\n\u001b[0m           ^\u001b[0m\n\u001b[0;31mSyntaxError\u001b[0m\u001b[0;31m:\u001b[0m invalid syntax\n"
     ]
    }
   ],
   "source": [
    "x = 5 __ 2\n",
    "\n",
    "print(x)"
   ]
  },
  {
   "cell_type": "markdown",
   "id": "f6c343f2",
   "metadata": {},
   "source": [
    "**10. Change the `__` to an arithmetic operator so the code prints 22.**"
   ]
  },
  {
   "cell_type": "code",
   "execution_count": 8,
   "id": "52b62420",
   "metadata": {},
   "outputs": [
    {
     "ename": "SyntaxError",
     "evalue": "invalid syntax (504757795.py, line 1)",
     "output_type": "error",
     "traceback": [
      "\u001b[0;36m  File \u001b[0;32m\"/var/folders/lm/cpp55nhx4x9gsyrln06p49980000gn/T/ipykernel_5240/504757795.py\"\u001b[0;36m, line \u001b[0;32m1\u001b[0m\n\u001b[0;31m    x = 11 __ 2\u001b[0m\n\u001b[0m            ^\u001b[0m\n\u001b[0;31mSyntaxError\u001b[0m\u001b[0;31m:\u001b[0m invalid syntax\n"
     ]
    }
   ],
   "source": [
    "x = 11 __ 2\n",
    "\n",
    "print(x)"
   ]
  },
  {
   "cell_type": "markdown",
   "id": "ab9d803c",
   "metadata": {},
   "source": [
    "### Boolean data and Conditionals <a class=\"anchor\" id=\"boolean\"></a>"
   ]
  },
  {
   "cell_type": "markdown",
   "id": "3e96342a",
   "metadata": {},
   "source": [
    "**1. Set x to a value that will make the following code print \"Success!\"**"
   ]
  },
  {
   "cell_type": "code",
   "execution_count": null,
   "id": "cd2b2988",
   "metadata": {},
   "outputs": [],
   "source": [
    "x = \n",
    "\n",
    "if x > 5:\n",
    "    print(\"Success!\")"
   ]
  },
  {
   "cell_type": "markdown",
   "id": "3bfffeb4",
   "metadata": {},
   "source": [
    "**2. Set x to a value that will make the following code print \"Inside the else!\"**"
   ]
  },
  {
   "cell_type": "code",
   "execution_count": 10,
   "id": "54bacc7e",
   "metadata": {},
   "outputs": [
    {
     "name": "stdout",
     "output_type": "stream",
     "text": [
      "Inside the else!\n"
     ]
    }
   ],
   "source": [
    "x = \n",
    "\n",
    "if x != 4:\n",
    "    print(\"Inside the if!\")\n",
    "else:\n",
    "    print(\"Inside the else!\")"
   ]
  },
  {
   "cell_type": "markdown",
   "id": "6f008f8e",
   "metadata": {},
   "source": [
    "**3. Set `x` to a value and add a boolean expression to the `if` block of this `if-elif-else` block so the code will print, \"Inside the elif!\"**"
   ]
  },
  {
   "cell_type": "code",
   "execution_count": 11,
   "id": "f39c2041",
   "metadata": {},
   "outputs": [
    {
     "ename": "SyntaxError",
     "evalue": "invalid syntax (1013186381.py, line 1)",
     "output_type": "error",
     "traceback": [
      "\u001b[0;36m  File \u001b[0;32m\"/var/folders/lm/cpp55nhx4x9gsyrln06p49980000gn/T/ipykernel_98953/1013186381.py\"\u001b[0;36m, line \u001b[0;32m1\u001b[0m\n\u001b[0;31m    x =\u001b[0m\n\u001b[0m        ^\u001b[0m\n\u001b[0;31mSyntaxError\u001b[0m\u001b[0;31m:\u001b[0m invalid syntax\n"
     ]
    }
   ],
   "source": [
    "x = \n",
    "\n",
    "if ______:\n",
    "\n",
    "elif:\n",
    "    print('Inside the elif!')\n",
    "else:\n",
    "    print(\"Inside\")"
   ]
  },
  {
   "cell_type": "markdown",
   "id": "36ed8351",
   "metadata": {},
   "source": [
    "**4. Replace the blank (`__`) in the block below so the following code prints, \"Inside the if!\"**"
   ]
  },
  {
   "cell_type": "code",
   "execution_count": 13,
   "id": "70c9b97e",
   "metadata": {},
   "outputs": [
    {
     "ename": "SyntaxError",
     "evalue": "invalid syntax (3281676998.py, line 3)",
     "output_type": "error",
     "traceback": [
      "\u001b[0;36m  File \u001b[0;32m\"/var/folders/lm/cpp55nhx4x9gsyrln06p49980000gn/T/ipykernel_98953/3281676998.py\"\u001b[0;36m, line \u001b[0;32m3\u001b[0m\n\u001b[0;31m    if x __ 6:\u001b[0m\n\u001b[0m          ^\u001b[0m\n\u001b[0;31mSyntaxError\u001b[0m\u001b[0;31m:\u001b[0m invalid syntax\n"
     ]
    }
   ],
   "source": [
    "x = 8\n",
    "\n",
    "if x __ 6:\n",
    "    print(\"Inside the if!\")\n",
    "else:\n",
    "    print(\"Inside the else!\")"
   ]
  },
  {
   "cell_type": "markdown",
   "id": "f5201523",
   "metadata": {},
   "source": [
    "**5. Write a conditional statement that prints \"Positive\" if the variable `x` is set to a value greater than `0`.**"
   ]
  },
  {
   "cell_type": "code",
   "execution_count": null,
   "id": "9c065fd3",
   "metadata": {},
   "outputs": [],
   "source": [
    "x = \n",
    "\n"
   ]
  },
  {
   "cell_type": "markdown",
   "id": "2157bef0",
   "metadata": {},
   "source": [
    "**6. Write an `if-else` statement that prints \"Positive\" if the variable `x` is set to a value greater than 0, and prints \"Negative\" if the variable `x` is set to a value less than 0.**"
   ]
  },
  {
   "cell_type": "code",
   "execution_count": null,
   "id": "6c5d0a83",
   "metadata": {},
   "outputs": [],
   "source": [
    "x = "
   ]
  },
  {
   "cell_type": "markdown",
   "id": "2ae76ad7",
   "metadata": {},
   "source": [
    "**7. Write an `if-elif-else` statement that prints:**\n",
    "- \"Positive\" if the variable `x` is set to a value greater than 0\n",
    "- \"Negative\" if the variable `x` is set to a value less than 0.\n",
    "- \"Equal to zero\" if the variable `x` is set to zero."
   ]
  },
  {
   "cell_type": "markdown",
   "id": "51534d56",
   "metadata": {},
   "source": [
    "### Lists, loops, and NumPy arrays <a class=\"anchor\" id=\"lists\"></a>"
   ]
  },
  {
   "cell_type": "markdown",
   "id": "635957a8",
   "metadata": {},
   "source": [
    "**1. Use a for loop to print every value in the `my_list` variable.**"
   ]
  },
  {
   "cell_type": "code",
   "execution_count": 9,
   "id": "8bfc68e5",
   "metadata": {},
   "outputs": [],
   "source": [
    "my_list = [1, 2, 3, 4, 5]\n",
    "\n"
   ]
  },
  {
   "cell_type": "markdown",
   "id": "815053d1",
   "metadata": {},
   "source": [
    "**2. Create a list of strings, and then use a for loop to print its contents. The result should be:**\n",
    "\n",
    "```\n",
    "These\n",
    "are\n",
    "the\n",
    "items\n",
    "of\n",
    "the\n",
    "list\n",
    "```"
   ]
  },
  {
   "cell_type": "markdown",
   "id": "1bf3cfb4",
   "metadata": {},
   "source": [
    "**3. Use slice notation to print `[0, 1, 2]` from the list below**"
   ]
  },
  {
   "cell_type": "code",
   "execution_count": 11,
   "id": "39b6b7ef",
   "metadata": {},
   "outputs": [
    {
     "name": "stdout",
     "output_type": "stream",
     "text": [
      "[0, 1, 2, 3, 4, 5]\n"
     ]
    }
   ],
   "source": [
    "my_list = [0, 1, 2, 3, 4, 5]\n",
    "\n",
    "print(my_list)"
   ]
  },
  {
   "cell_type": "markdown",
   "id": "e9804b84",
   "metadata": {},
   "source": [
    "**4. Use `range()` to create a list from `0` to `50` and save it to `my_list`. Print the result.**"
   ]
  },
  {
   "cell_type": "code",
   "execution_count": 13,
   "id": "c0329df4",
   "metadata": {},
   "outputs": [
    {
     "ename": "SyntaxError",
     "evalue": "invalid syntax (285285008.py, line 1)",
     "output_type": "error",
     "traceback": [
      "\u001b[0;36m  File \u001b[0;32m\"/var/folders/lm/cpp55nhx4x9gsyrln06p49980000gn/T/ipykernel_5240/285285008.py\"\u001b[0;36m, line \u001b[0;32m1\u001b[0m\n\u001b[0;31m    my_list =\u001b[0m\n\u001b[0m              ^\u001b[0m\n\u001b[0;31mSyntaxError\u001b[0m\u001b[0;31m:\u001b[0m invalid syntax\n"
     ]
    }
   ],
   "source": [
    "my_list = \n",
    "\n",
    "print(my_list)"
   ]
  },
  {
   "cell_type": "markdown",
   "id": "b3454c48",
   "metadata": {},
   "source": [
    "**5. Append 15 to `my_list`**"
   ]
  },
  {
   "cell_type": "code",
   "execution_count": null,
   "id": "0e34f496",
   "metadata": {},
   "outputs": [],
   "source": [
    "my_list = [0, 3, 6, 9, 12]\n",
    "\n",
    "# Append here\n",
    "\n",
    "\n",
    "print(my_list)"
   ]
  },
  {
   "cell_type": "markdown",
   "id": "1d989d85",
   "metadata": {},
   "source": [
    "**6. Fix the `for` loop so it prints:**\n",
    "\n",
    "Hi<br>\n",
    "Hello<br>\n",
    "How are you?"
   ]
  },
  {
   "cell_type": "code",
   "execution_count": null,
   "id": "0ac0a428",
   "metadata": {},
   "outputs": [],
   "source": [
    "my_list = [\"Hi\", \"Hello\", \"How are you?\"]\n",
    "\n",
    "for ___ in ___:\n",
    "    print()"
   ]
  },
  {
   "cell_type": "markdown",
   "id": "f10ca4d8",
   "metadata": {},
   "source": [
    "**7. Fill in the blanks below so the code prints:**\n",
    "\n",
    "0<br>\n",
    "1<br>\n",
    "2"
   ]
  },
  {
   "cell_type": "code",
   "execution_count": 15,
   "id": "72f0c9a0",
   "metadata": {},
   "outputs": [
    {
     "ename": "SyntaxError",
     "evalue": "invalid syntax (1714272417.py, line 4)",
     "output_type": "error",
     "traceback": [
      "\u001b[0;36m  File \u001b[0;32m\"/var/folders/lm/cpp55nhx4x9gsyrln06p49980000gn/T/ipykernel_5240/1714272417.py\"\u001b[0;36m, line \u001b[0;32m4\u001b[0m\n\u001b[0;31m    while my_list[i] __ 2:\u001b[0m\n\u001b[0m                      ^\u001b[0m\n\u001b[0;31mSyntaxError\u001b[0m\u001b[0;31m:\u001b[0m invalid syntax\n"
     ]
    }
   ],
   "source": [
    "my_list = [0, 1, 2, 3, 4, 5]\n",
    "i = 0\n",
    "\n",
    "while my_list[i] __ 2:\n",
    "    i += __\n",
    "    print(__)"
   ]
  },
  {
   "cell_type": "markdown",
   "id": "63dd8090",
   "metadata": {},
   "source": [
    "**8. Import NumPy**"
   ]
  },
  {
   "cell_type": "code",
   "execution_count": null,
   "id": "a8f91d3d",
   "metadata": {},
   "outputs": [],
   "source": []
  },
  {
   "cell_type": "markdown",
   "id": "77dda7ff",
   "metadata": {},
   "source": [
    "**9. Create a NumPy array with `0`, `10`, and `100` and save it to a variable called `my_array`**"
   ]
  },
  {
   "cell_type": "code",
   "execution_count": null,
   "id": "eeb3068a",
   "metadata": {},
   "outputs": [],
   "source": []
  },
  {
   "cell_type": "markdown",
   "id": "b2c94ced",
   "metadata": {},
   "source": [
    "**10. Use NumPy to calculate the mean and sum of `my_array`. Print the results.**"
   ]
  },
  {
   "cell_type": "code",
   "execution_count": null,
   "id": "4de96100",
   "metadata": {},
   "outputs": [],
   "source": []
  },
  {
   "cell_type": "markdown",
   "id": "6b2b4204",
   "metadata": {},
   "source": [
    "### Functions <a class=\"anchor\" id=\"functions\"></a>"
   ]
  },
  {
   "cell_type": "markdown",
   "id": "13a19073",
   "metadata": {},
   "source": [
    "**1. Call the function below. It will print, \"You called the function!\"**"
   ]
  },
  {
   "cell_type": "code",
   "execution_count": null,
   "id": "0fb726e4",
   "metadata": {},
   "outputs": [],
   "source": [
    "def my_function():\n",
    "    print(\"You called the function!\")\n",
    "    \n",
    "# Call the function below:\n"
   ]
  },
  {
   "cell_type": "markdown",
   "id": "bf86bd7f",
   "metadata": {},
   "source": [
    "**2. Call the `print_my_name()` function. Pass your name into the function as an argument.**"
   ]
  },
  {
   "cell_type": "code",
   "execution_count": null,
   "id": "6cccfde0",
   "metadata": {},
   "outputs": [],
   "source": [
    "def print_my_name(name):\n",
    "    print(f\"My name is, {name}\")\n",
    "    \n",
    "# Call the function below:\n"
   ]
  },
  {
   "cell_type": "markdown",
   "id": "e8dc957a",
   "metadata": {},
   "source": [
    "**3. Define a function that accepts 2 values and prints the sum. Call the function once you have defined it.**"
   ]
  },
  {
   "cell_type": "code",
   "execution_count": null,
   "id": "f5521d1a",
   "metadata": {},
   "outputs": [],
   "source": []
  },
  {
   "cell_type": "markdown",
   "id": "010503c2",
   "metadata": {},
   "source": [
    "**4. Fix the function below so it accepts a name as an argument and returns the string, \"Hello, Alex\".**"
   ]
  },
  {
   "cell_type": "code",
   "execution_count": 19,
   "id": "8a0247dd",
   "metadata": {},
   "outputs": [
    {
     "name": "stdout",
     "output_type": "stream",
     "text": [
      "None\n"
     ]
    }
   ],
   "source": [
    "def return_greeting(input_name):\n",
    "    input_name\n",
    "\n",
    "\n",
    "greeting = return_greeting(\"Alex\")\n",
    "print(greeting)"
   ]
  },
  {
   "cell_type": "markdown",
   "id": "1632d150",
   "metadata": {},
   "source": [
    "**5. Define a function in python that accepts 3 values and returns the maximum of three numbers.**"
   ]
  },
  {
   "cell_type": "code",
   "execution_count": 20,
   "id": "a15cabc3",
   "metadata": {},
   "outputs": [
    {
     "ename": "IndentationError",
     "evalue": "expected an indented block (2766369841.py, line 4)",
     "output_type": "error",
     "traceback": [
      "\u001b[0;36m  File \u001b[0;32m\"/var/folders/lm/cpp55nhx4x9gsyrln06p49980000gn/T/ipykernel_5240/2766369841.py\"\u001b[0;36m, line \u001b[0;32m4\u001b[0m\n\u001b[0;31m    print(find_max(2, 4, 5))\u001b[0m\n\u001b[0m        ^\u001b[0m\n\u001b[0;31mIndentationError\u001b[0m\u001b[0;31m:\u001b[0m expected an indented block\n"
     ]
    }
   ],
   "source": [
    "def find_max():\n",
    "    \n",
    "\n",
    "print(find_max(7, 4, 5))"
   ]
  },
  {
   "cell_type": "markdown",
   "id": "e09dd102",
   "metadata": {},
   "source": [
    "**6. Define a function that accepts a number and returns \"Negative\" if the value is less than zero, and \"Not negative\" if the number is not less than zero.**"
   ]
  },
  {
   "cell_type": "code",
   "execution_count": null,
   "id": "6caa82a2",
   "metadata": {},
   "outputs": [],
   "source": []
  },
  {
   "cell_type": "markdown",
   "id": "1ae88cc2",
   "metadata": {},
   "source": [
    "**7. Define a function that accepts radius and returns the area of a circle.**"
   ]
  },
  {
   "cell_type": "code",
   "execution_count": null,
   "id": "38e4f036",
   "metadata": {},
   "outputs": [],
   "source": []
  },
  {
   "cell_type": "markdown",
   "id": "f2f4b9c2",
   "metadata": {},
   "source": [
    "### Challenge Questions <a class=\"anchor\" id=\"challenge-questions\"></a>\n",
    "\n",
    "Questions below have been taken from: https://www.codechef.com/practice/topics/basic-programming\n",
    "\n",
    "This website is a great resource to practice programming problems."
   ]
  },
  {
   "cell_type": "markdown",
   "id": "396d4cea",
   "metadata": {},
   "source": [
    "**1. Chef and Chefina are playing with dice. In one turn, both of them roll their dice at once. \n",
    "They consider a turn to be good if the sum of the numbers on their dice is greater than \n",
    "6.\n",
    "Given that in a particular turn Chef and Chefina got X and Y on their respective dice, *write a function* to find whether the turn was good.**"
   ]
  },
  {
   "cell_type": "code",
   "execution_count": null,
   "id": "f2bf9037",
   "metadata": {},
   "outputs": [],
   "source": []
  },
  {
   "cell_type": "markdown",
   "id": "1a5f965e",
   "metadata": {},
   "source": [
    "**2. Chef and some of his friends are planning to participate in a puzzle hunt event.\n",
    "The rules of the puzzle hunt state:\n",
    "\"This hunt is intended for teams of 6 to 8 people.\"\n",
    "Chef's team has N people in total. Write a function to determine if they are eligible to participate?**"
   ]
  },
  {
   "cell_type": "code",
   "execution_count": null,
   "id": "c9ad7d87",
   "metadata": {},
   "outputs": [],
   "source": []
  },
  {
   "cell_type": "markdown",
   "id": "595d5afb",
   "metadata": {},
   "source": [
    "**3. There are three friends and a total of N candies.\n",
    "There will be a fight amongst the friends if all of them do not get the same number of candies.\n",
    "Chef wants to divide all the candies such that there is no fight. Write a function to find whether such distribution is possible.**"
   ]
  },
  {
   "cell_type": "markdown",
   "id": "d47294f8",
   "metadata": {},
   "source": [
    "**4. In a classic chase, Tom is running after Jerry as Jerry has eaten Tom's favourite food.\n",
    "Jerry is running at a speed of \n",
    "X metres per second while Tom is chasing him at a speed of \n",
    "Y metres per second. Write a function to determine whether Tom will be able to catch Jerry.\n",
    "Note that initially Jerry is not at the same position as Tom.**"
   ]
  },
  {
   "cell_type": "code",
   "execution_count": null,
   "id": "d77a673b",
   "metadata": {},
   "outputs": [],
   "source": []
  },
  {
   "cell_type": "markdown",
   "id": "e5ad8d4c",
   "metadata": {},
   "source": [
    "5. "
   ]
  },
  {
   "cell_type": "code",
   "execution_count": null,
   "id": "f66afd50",
   "metadata": {},
   "outputs": [],
   "source": []
  }
 ],
 "metadata": {
  "kernelspec": {
   "display_name": "Python 3 (ipykernel)",
   "language": "python",
   "name": "python3"
  },
  "language_info": {
   "codemirror_mode": {
    "name": "ipython",
    "version": 3
   },
   "file_extension": ".py",
   "mimetype": "text/x-python",
   "name": "python",
   "nbconvert_exporter": "python",
   "pygments_lexer": "ipython3",
   "version": "3.7.8"
  }
 },
 "nbformat": 4,
 "nbformat_minor": 5
}
